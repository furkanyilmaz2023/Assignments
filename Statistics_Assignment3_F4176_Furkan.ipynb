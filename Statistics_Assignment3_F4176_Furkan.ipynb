{
 "cells": [
  {
   "cell_type": "code",
   "execution_count": 3,
   "id": "11a82ef6",
   "metadata": {},
   "outputs": [],
   "source": [
    "import numpy as np\n",
    "from scipy import stats\n",
    "import matplotlib.pyplot as plt\n",
    "import seaborn as sns\n",
    "import scipy.stats as stats"
   ]
  },
  {
   "cell_type": "markdown",
   "id": "7a9a2f88",
   "metadata": {},
   "source": [
    "EXERCISE 1. The hourly wages in a particular industry are normally distributed with mean $13.20 and standard deviation $2.50. A company in this industry employs 40 workers, paying them an average of $12.20 per hour. Can this company be accused of paying substandard wages? Use an α = .01 level test. (Wackerly, Ex.10.18)\n",
    "\n",
    "CHECK: statistic: -2.5298221281347035, pvalue= 0.005706018193000826"
   ]
  },
  {
   "cell_type": "code",
   "execution_count": 2,
   "id": "fdaa0ffb",
   "metadata": {},
   "outputs": [],
   "source": [
    "n = 40\n",
    "mu = 13.20\n",
    "sigma = 2.50\n",
    "x_bar = 12.20\n",
    "alpha = 0.01"
   ]
  },
  {
   "cell_type": "code",
   "execution_count": 4,
   "id": "435429da",
   "metadata": {},
   "outputs": [
    {
     "data": {
      "text/plain": [
       "-2.5298221281347035"
      ]
     },
     "execution_count": 4,
     "metadata": {},
     "output_type": "execute_result"
    }
   ],
   "source": [
    "z = (x_bar - mu) / (sigma/np.sqrt(n))\n",
    "z"
   ]
  },
  {
   "cell_type": "code",
   "execution_count": 6,
   "id": "e88dbc9b",
   "metadata": {},
   "outputs": [
    {
     "data": {
      "text/plain": [
       "0.005706018193000826"
      ]
     },
     "execution_count": 6,
     "metadata": {},
     "output_type": "execute_result"
    }
   ],
   "source": [
    "p_value = stats.norm.cdf(z)\n",
    "p_value  # P value is less than level of significance, so reject the null hypothesis."
   ]
  },
  {
   "cell_type": "markdown",
   "id": "54de1f17",
   "metadata": {},
   "source": [
    "EXERCISE 2.Shear strength measurements derived from unconfined compression tests for two types of soils gave the results shown in the following document (measurements in tons per square foot). Do the soils appear to differ with respect to average shear strength, at the 1% significance level?\n",
    "\n",
    "Results for two type of soils\n",
    "\n",
    "CHECK: statistic: 5.1681473319343345, pvalue= 2.593228732352821e-06"
   ]
  },
  {
   "cell_type": "code",
   "execution_count": 8,
   "id": "bd241769",
   "metadata": {},
   "outputs": [],
   "source": [
    "Soil1 = (1.442,1.943,1.110,1.912,1.553,1.641,1.499,1.347,1.685,1.578,1.866,1.653,1.665,1.650,1.976,1.754,1.589,1.976,1.863,\n",
    "         1.932,1.570,1.613,2.054,1.550,1.714,1.896,1.737,1.740,1.708,1.548)\n",
    "Soil2 = (1.364,1.878,1.337,1.828,1.371,1.428,1.119,1.373,1.589,1.714,1.260,1.492,1.395,1.778,1.611,1.202,1.542,1.094,1.557,\n",
    "1.053,1.183,1.367,1.144,1.151,1.561,1.192,1.489,1.379,1.501,1.277,1.593,1.172,1.510,1.740,1.355)"
   ]
  },
  {
   "cell_type": "code",
   "execution_count": 9,
   "id": "3e9dced9",
   "metadata": {},
   "outputs": [
    {
     "data": {
      "text/plain": [
       "Ttest_indResult(statistic=5.175264469704243, pvalue=2.5248588631847643e-06)"
      ]
     },
     "execution_count": 9,
     "metadata": {},
     "output_type": "execute_result"
    }
   ],
   "source": [
    "indTest = stats.ttest_ind(Soil1, Soil2)\n",
    "indTest"
   ]
  },
  {
   "cell_type": "markdown",
   "id": "ede4af68",
   "metadata": {},
   "source": [
    "Fail To Reject null hypothesis"
   ]
  },
  {
   "cell_type": "markdown",
   "id": "5654c480",
   "metadata": {},
   "source": [
    "EXERCISE 4.  A gym operator organized a 2-month exercise and diet program for 15 customers suffering from their excess weight. To evaluate whether this diet program was effective, he measured the customers' starting and ending weights and recorded them in the computer. Did the exercise and diet program have an impact on customers' weight loss? Use an α = .01 level test.  Weight Dataset\n",
    "\n",
    "CHECK: statistic=2.67808348404993, pvalue=0.00900646517506627"
   ]
  },
  {
   "cell_type": "code",
   "execution_count": 7,
   "id": "f79d5228",
   "metadata": {},
   "outputs": [],
   "source": [
    "starting = (76,81,86,71,88,78,76,81,79,77,83,77,79,81,83)\n",
    "ending = (72,82,84,71,83,74,70,80,78,79,80,76,77,83,82)"
   ]
  },
  {
   "cell_type": "code",
   "execution_count": 10,
   "id": "b5f59c6d",
   "metadata": {},
   "outputs": [
    {
     "data": {
      "text/plain": [
       "Ttest_indResult(statistic=1.0262561733159727, pvalue=0.3135555750401003)"
      ]
     },
     "execution_count": 10,
     "metadata": {},
     "output_type": "execute_result"
    }
   ],
   "source": [
    "indTest = stats.ttest_ind(starting, ending)\n",
    "indTest"
   ]
  },
  {
   "cell_type": "code",
   "execution_count": null,
   "id": "b77fd301",
   "metadata": {},
   "outputs": [],
   "source": []
  }
 ],
 "metadata": {
  "kernelspec": {
   "display_name": "Python 3 (ipykernel)",
   "language": "python",
   "name": "python3"
  },
  "language_info": {
   "codemirror_mode": {
    "name": "ipython",
    "version": 3
   },
   "file_extension": ".py",
   "mimetype": "text/x-python",
   "name": "python",
   "nbconvert_exporter": "python",
   "pygments_lexer": "ipython3",
   "version": "3.9.12"
  }
 },
 "nbformat": 4,
 "nbformat_minor": 5
}
