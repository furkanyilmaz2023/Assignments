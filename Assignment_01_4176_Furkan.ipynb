{
  "cells": [
    {
      "cell_type": "markdown",
      "metadata": {
        "id": "fepd5K3rAd-n"
      },
      "source": [
        "___\n",
        "\n",
        "<p style=\"text-align: center;\"><img src=\"https://docs.google.com/uc?id=1lY0Uj5R04yMY3-ZppPWxqCr5pvBLYPnV\" class=\"img-fluid\" \n",
        "alt=\"CLRSWY\"></p>\n",
        "\n",
        "## <p style=\"background-color:#FDFEFE; font-family:newtimeroman; color:#9d4f8c; font-size:100%; text-align:center; border-radius:10px 10px;\">WAY TO REINVENT YOURSELF</p>\n",
        "\n",
        "## <p style=\"background-color:#FDFEFE; font-family:newtimeroman; color:#060108; font-size:200%; text-align:center; border-radius:10px 10px;\">Data Analysis with Python</p>\n",
        "\n",
        "![Image_Assignment](https://i.ibb.co/cY9HhF7/bnote-assignment.gif)\n",
        "\n",
        "## <p style=\"background-color:#FDFEFE; font-family:newtimeroman; color:#4d77cf; font-size:200%; text-align:center; border-radius:10px 10px;\">Assignment 01 (NumPy & Pandas Basics)</p>"
      ]
    },
    {
      "cell_type": "markdown",
      "metadata": {
        "id": "k-Dg0SstG00u"
      },
      "source": [
        "<a id=\"toc\"></a>\n",
        "\n",
        "## <p style=\"background-color:#9d4f8c; font-family:newtimeroman; color:#FFF9ED; font-size:175%; text-align:center; border-radius:10px 10px;\">Content</p>\n",
        "\n",
        "* [NUMPY SECTION](#0)\n",
        "* [PANDAS SECTION](#1)\n"
      ]
    },
    {
      "cell_type": "markdown",
      "metadata": {
        "id": "lFoJR2iTAd-v"
      },
      "source": [
        "**In this assignment you will start off with Numpy Exercises and then complete the whole Exercise with Pandas questions. All the subjects related to questions here already covered in preclass materials and in-class sessions. So good luck!**"
      ]
    },
    {
      "cell_type": "markdown",
      "metadata": {
        "id": "kgmCz_64G00v"
      },
      "source": [
        "## <p style=\"background-color:#9d4f8c; font-family:newtimeroman; color:#FFF9ED; font-size:175%; text-align:center; border-radius:10px 10px;\">Numpy Section</p>\n",
        "\n",
        "<a id=\"0\"></a>\n",
        "<a href=\"#toc\" class=\"btn btn-primary btn-sm\" role=\"button\" aria-pressed=\"true\" \n",
        "style=\"color:blue; background-color:#dfa8e4\" data-toggle=\"popover\">Content</a>"
      ]
    },
    {
      "cell_type": "markdown",
      "metadata": {
        "id": "9LrbgcwYAd-w"
      },
      "source": [
        "### 1. Import NumPy Library."
      ]
    },
    {
      "cell_type": "code",
      "execution_count": 1,
      "metadata": {
        "id": "MymrsT_dAd-x"
      },
      "outputs": [],
      "source": [
        "import numpy as np"
      ]
    },
    {
      "cell_type": "markdown",
      "metadata": {
        "id": "It1vT4JYAd-y"
      },
      "source": [
        "### 2. Create an array from my_list = [5, 10, 15, 20, 25]"
      ]
    },
    {
      "cell_type": "code",
      "execution_count": null,
      "metadata": {
        "id": "mE5Q6nfcG00x",
        "colab": {
          "base_uri": "https://localhost:8080/"
        },
        "outputId": "062d2abb-cbc1-4817-aa58-e9cc206b80de"
      },
      "outputs": [
        {
          "output_type": "execute_result",
          "data": {
            "text/plain": [
              "array([ 5, 10, 15, 20, 25])"
            ]
          },
          "metadata": {},
          "execution_count": 5
        }
      ],
      "source": [
        "my_list = [5, 10, 15, 20, 25]\n",
        "\n",
        "np.array(my_list)"
      ]
    },
    {
      "cell_type": "raw",
      "metadata": {
        "id": "dPndrpKOAd-z",
        "outputId": "fa4080ee-8528-454e-d834-2d13d49bbec2"
      },
      "source": [
        "Desired Output:\n",
        "\n",
        "array([ 5, 10, 15, 20, 25])"
      ]
    },
    {
      "cell_type": "markdown",
      "metadata": {
        "id": "1hVeq_fEAd-1"
      },
      "source": [
        "### 3. Generate an array of 5x5 with zeros. "
      ]
    },
    {
      "cell_type": "code",
      "execution_count": null,
      "metadata": {
        "id": "Y0R-L8hBAd-2",
        "colab": {
          "base_uri": "https://localhost:8080/"
        },
        "outputId": "6c7e684f-2932-463d-b6e8-f82a5f7f7e3c"
      },
      "outputs": [
        {
          "output_type": "execute_result",
          "data": {
            "text/plain": [
              "array([[0., 0., 0., 0., 0.],\n",
              "       [0., 0., 0., 0., 0.],\n",
              "       [0., 0., 0., 0., 0.],\n",
              "       [0., 0., 0., 0., 0.],\n",
              "       [0., 0., 0., 0., 0.]])"
            ]
          },
          "metadata": {},
          "execution_count": 8
        }
      ],
      "source": [
        "np.zeros((5,5))\n",
        "\n"
      ]
    },
    {
      "cell_type": "raw",
      "metadata": {
        "id": "fmA2fQHXG00y"
      },
      "source": [
        "Desired Output:\n",
        "\n",
        "array([[0., 0., 0., 0., 0.],\n",
        "       [0., 0., 0., 0., 0.],\n",
        "       [0., 0., 0., 0., 0.],\n",
        "       [0., 0., 0., 0., 0.],\n",
        "       [0., 0., 0., 0., 0.]])"
      ]
    },
    {
      "cell_type": "markdown",
      "metadata": {
        "id": "lHhdpBa6Ad-3"
      },
      "source": [
        "### 4. Generate an array of 4x4 with ones and assign data type as int."
      ]
    },
    {
      "cell_type": "code",
      "execution_count": null,
      "metadata": {
        "id": "s45bqkmOAd-3",
        "colab": {
          "base_uri": "https://localhost:8080/"
        },
        "outputId": "c057cc1f-c3c0-4366-ea26-12d9f0139d70"
      },
      "outputs": [
        {
          "output_type": "execute_result",
          "data": {
            "text/plain": [
              "array([[1, 1, 1, 1],\n",
              "       [1, 1, 1, 1],\n",
              "       [1, 1, 1, 1],\n",
              "       [1, 1, 1, 1]])"
            ]
          },
          "metadata": {},
          "execution_count": 9
        }
      ],
      "source": [
        "np.ones((4,4), dtype=int)\n"
      ]
    },
    {
      "cell_type": "raw",
      "metadata": {
        "id": "A1p6v-ZLG00z"
      },
      "source": [
        "Desired Output:\n",
        "\n",
        "array([[1, 1, 1, 1],\n",
        "       [1, 1, 1, 1],\n",
        "       [1, 1, 1, 1],\n",
        "       [1, 1, 1, 1]])"
      ]
    },
    {
      "cell_type": "markdown",
      "metadata": {
        "id": "1gD94nCeAd-5"
      },
      "source": [
        "### 5. Make all the values of the array above with the value of 7."
      ]
    },
    {
      "cell_type": "markdown",
      "source": [
        "**TEKRAR BAK**"
      ],
      "metadata": {
        "id": "sOP0jafej9Df"
      }
    },
    {
      "cell_type": "code",
      "execution_count": 34,
      "metadata": {
        "id": "L8fjsn5JAd-6",
        "colab": {
          "base_uri": "https://localhost:8080/"
        },
        "outputId": "f3a0a9ab-c52d-44de-b600-159dd795699d"
      },
      "outputs": [
        {
          "output_type": "execute_result",
          "data": {
            "text/plain": [
              "array([[7, 7, 7, 7],\n",
              "       [7, 7, 7, 7],\n",
              "       [7, 7, 7, 7],\n",
              "       [7, 7, 7, 7]])"
            ]
          },
          "metadata": {},
          "execution_count": 34
        }
      ],
      "source": [
        "np.ones((4,4), dtype=int)*7\n",
        "\n"
      ]
    },
    {
      "cell_type": "raw",
      "metadata": {
        "id": "nW49WPVoG000"
      },
      "source": [
        "Desired Output:\n",
        "\n",
        "array([[7, 7, 7, 7],\n",
        "       [7, 7, 7, 7],\n",
        "       [7, 7, 7, 7],\n",
        "       [7, 7, 7, 7]])"
      ]
    },
    {
      "cell_type": "markdown",
      "metadata": {
        "id": "XeOPD2dBAd-7"
      },
      "source": [
        "### 6. Create the previous array above by full() method."
      ]
    },
    {
      "cell_type": "code",
      "execution_count": null,
      "metadata": {
        "id": "xqoPe_PJAd-7",
        "colab": {
          "base_uri": "https://localhost:8080/"
        },
        "outputId": "d4f8b8bb-5af5-48d4-bb7e-d543758df350"
      },
      "outputs": [
        {
          "output_type": "execute_result",
          "data": {
            "text/plain": [
              "array([[7, 7, 7, 7],\n",
              "       [7, 7, 7, 7],\n",
              "       [7, 7, 7, 7],\n",
              "       [7, 7, 7, 7]])"
            ]
          },
          "metadata": {},
          "execution_count": 14
        }
      ],
      "source": [
        "np.full((4,4), 7)\n"
      ]
    },
    {
      "cell_type": "raw",
      "metadata": {
        "id": "A4q0kq-HG000"
      },
      "source": [
        "Desired Output:\n",
        "\n",
        "array([[7, 7, 7, 7],\n",
        "       [7, 7, 7, 7],\n",
        "       [7, 7, 7, 7],\n",
        "       [7, 7, 7, 7]])"
      ]
    },
    {
      "cell_type": "markdown",
      "metadata": {
        "id": "G8_xFCyQAd-8"
      },
      "source": [
        "### 7. Create an array of even integers from 2 to 16 (inclusive). "
      ]
    },
    {
      "cell_type": "code",
      "execution_count": null,
      "metadata": {
        "id": "Nu6VInWWAd-8",
        "colab": {
          "base_uri": "https://localhost:8080/"
        },
        "outputId": "f36af46b-1652-4ea9-c1a5-2c9e07d58104"
      },
      "outputs": [
        {
          "output_type": "execute_result",
          "data": {
            "text/plain": [
              "array([ 2,  4,  6,  8, 10, 12, 14, 16])"
            ]
          },
          "metadata": {},
          "execution_count": 20
        }
      ],
      "source": [
        "np.arange(2,17,2)\n",
        "\n"
      ]
    },
    {
      "cell_type": "raw",
      "metadata": {
        "id": "b-gLcX2sG001"
      },
      "source": [
        "Desired Output:\n",
        "\n",
        "array([ 2,  4,  6,  8, 10, 12, 14, 16])"
      ]
    },
    {
      "cell_type": "markdown",
      "metadata": {
        "id": "-SZvgEVVAd-9"
      },
      "source": [
        "### 8. Create a 5x5 matrix with the values between 0 to 25 (exclusive)."
      ]
    },
    {
      "cell_type": "code",
      "execution_count": null,
      "metadata": {
        "id": "ddkmPCghAd--",
        "colab": {
          "base_uri": "https://localhost:8080/"
        },
        "outputId": "57e95be5-8936-4ff5-ff20-08502066e760"
      },
      "outputs": [
        {
          "output_type": "execute_result",
          "data": {
            "text/plain": [
              "array([[ 0,  1,  2,  3,  4],\n",
              "       [ 5,  6,  7,  8,  9],\n",
              "       [10, 11, 12, 13, 14],\n",
              "       [15, 16, 17, 18, 19],\n",
              "       [20, 21, 22, 23, 24]])"
            ]
          },
          "metadata": {},
          "execution_count": 23
        }
      ],
      "source": [
        "arr = np.arange(0,25)\n",
        "arr.reshape(5,5)\n",
        "\n"
      ]
    },
    {
      "cell_type": "raw",
      "metadata": {
        "id": "hX5rl3j4G001"
      },
      "source": [
        "Desired Output:\n",
        "\n",
        "array([[ 0,  1,  2,  3,  4],\n",
        "       [ 5,  6,  7,  8,  9],\n",
        "       [10, 11, 12, 13, 14],\n",
        "       [15, 16, 17, 18, 19],\n",
        "       [20, 21, 22, 23, 24]])"
      ]
    },
    {
      "cell_type": "markdown",
      "metadata": {
        "id": "-QuMw6v5Ad-_"
      },
      "source": [
        "### 9. Create a 5x5 matrix with the values between 0 to 25 (exclusive) using linspace method."
      ]
    },
    {
      "cell_type": "code",
      "execution_count": null,
      "metadata": {
        "id": "4A195I5iAd_A",
        "colab": {
          "base_uri": "https://localhost:8080/"
        },
        "outputId": "a8552cfe-3f30-4966-b113-3a30a3ead0c4"
      },
      "outputs": [
        {
          "output_type": "execute_result",
          "data": {
            "text/plain": [
              "array([[ 0,  1,  2,  3,  4],\n",
              "       [ 5,  6,  7,  8,  9],\n",
              "       [10, 11, 12, 13, 14],\n",
              "       [15, 16, 17, 18, 19],\n",
              "       [20, 21, 22, 23, 24]])"
            ]
          },
          "metadata": {},
          "execution_count": 39
        }
      ],
      "source": [
        "arr_1 = np.linspace(0,24,25, dtype=\"int\")\n",
        "arr_1.reshape(5,5)\n"
      ]
    },
    {
      "cell_type": "raw",
      "metadata": {
        "id": "za00VBVvG002"
      },
      "source": [
        "Desired Output:\n",
        "\n",
        "array([[ 0,  1,  2,  3,  4],\n",
        "       [ 5,  6,  7,  8,  9],\n",
        "       [10, 11, 12, 13, 14],\n",
        "       [15, 16, 17, 18, 19],\n",
        "       [20, 21, 22, 23, 24]])"
      ]
    },
    {
      "cell_type": "markdown",
      "metadata": {
        "id": "xL-eRUXEAd_B"
      },
      "source": [
        "### 10. Create randomly 5 numbers with numpy."
      ]
    },
    {
      "cell_type": "code",
      "execution_count": null,
      "metadata": {
        "id": "0xda3LnLAd_B",
        "colab": {
          "base_uri": "https://localhost:8080/"
        },
        "outputId": "1cb4f7ca-51c3-44c6-9371-ccc417693bbf"
      },
      "outputs": [
        {
          "output_type": "execute_result",
          "data": {
            "text/plain": [
              "array([0.15020825, 0.9162172 , 0.99179445, 0.00536112, 0.66814891])"
            ]
          },
          "metadata": {},
          "execution_count": 40
        }
      ],
      "source": [
        "np.random.rand(5)\n",
        "\n"
      ]
    },
    {
      "cell_type": "raw",
      "metadata": {
        "id": "LRQ-OliQG002"
      },
      "source": [
        "Desired Output (WATCH OUT! Your output will probably NOT be the same as the one below due to randomization):\n",
        "\n",
        "array([0.69664494, 0.66387647, 0.97508534, 0.33818591, 0.58766187])"
      ]
    },
    {
      "cell_type": "markdown",
      "metadata": {
        "id": "JXiZjg06Ad_C"
      },
      "source": [
        "### 11. Create an array of 5*5 shape and fills it with random values as per the standard normal distribution."
      ]
    },
    {
      "cell_type": "code",
      "execution_count": null,
      "metadata": {
        "id": "KeJDVElTAd_C",
        "colab": {
          "base_uri": "https://localhost:8080/"
        },
        "outputId": "38d2dc02-9a26-4a65-f2fa-41c5f99e3f1d"
      },
      "outputs": [
        {
          "output_type": "execute_result",
          "data": {
            "text/plain": [
              "array([[-0.91082175, -1.1822284 ,  0.64983855,  0.46440811, -0.43977809],\n",
              "       [-0.4031274 , -0.88073417,  0.44180907,  1.16133483, -3.467648  ],\n",
              "       [ 0.14244435,  0.03370584, -0.87203846,  0.75012   , -1.68466251],\n",
              "       [ 0.2426885 ,  1.13639983,  0.31051337, -1.49948076, -1.65040385],\n",
              "       [-0.64068155,  0.43355522,  0.05185877,  0.57854908, -1.0405559 ]])"
            ]
          },
          "metadata": {},
          "execution_count": 2
        }
      ],
      "source": [
        "np.random.randn(5,5)\n",
        "\n"
      ]
    },
    {
      "cell_type": "raw",
      "metadata": {
        "id": "-5aw-XGiG003"
      },
      "source": [
        "Desired Output (WATCH OUT! Your output will probably NOT be the same as the one below due to randomization):\n",
        "\n",
        "array([[ 0.73087006, -0.34675846, -1.03601606, -0.61227298, -0.57078798],\n",
        "       [ 1.85976917, -0.37158111, -1.16789003, -0.81271697,  1.39620977],\n",
        "       [ 0.52695367, -0.19017673,  0.78067235, -1.3520313 ,  0.44878344],\n",
        "       [ 0.27758877,  0.75391726, -0.52652875,  0.74519765, -0.40414682],\n",
        "       [ 0.12743864, -0.81637521,  0.14086653, -0.29524574,  0.12703938]])"
      ]
    },
    {
      "cell_type": "markdown",
      "metadata": {
        "id": "iHRAL69DAd_D"
      },
      "source": [
        "### 12. Create a 3*4 array of random int numbers between 20 and 50."
      ]
    },
    {
      "cell_type": "code",
      "execution_count": null,
      "metadata": {
        "id": "19owhlhjAd_D",
        "colab": {
          "base_uri": "https://localhost:8080/"
        },
        "outputId": "ea838667-6d3f-418b-efa1-d447470fb873"
      },
      "outputs": [
        {
          "output_type": "execute_result",
          "data": {
            "text/plain": [
              "array([[38, 45, 40, 41],\n",
              "       [47, 46, 41, 44],\n",
              "       [45, 35, 38, 37]])"
            ]
          },
          "metadata": {},
          "execution_count": 4
        }
      ],
      "source": [
        "np.random.randint(20,50, size =(3,4))\n",
        "\n"
      ]
    },
    {
      "cell_type": "raw",
      "metadata": {
        "id": "PtCqCBPGG003"
      },
      "source": [
        "Desired Output (WATCH OUT! Your output will probably NOT be the same as the one below due to randomization):\n",
        "\n",
        "array([[33, 39, 47, 26],\n",
        "       [41, 20, 32, 23],\n",
        "       [25, 22, 41, 28]])"
      ]
    },
    {
      "cell_type": "markdown",
      "metadata": {
        "id": "XpsHE5BsAd_E"
      },
      "source": [
        "### 13. Create an array named \"ranarr\"consisting of randomly 48 numbers and reshape this array with the shape of 6x8 in different ways."
      ]
    },
    {
      "cell_type": "code",
      "execution_count": null,
      "metadata": {
        "id": "8DWl1ExmAd_E",
        "colab": {
          "base_uri": "https://localhost:8080/"
        },
        "outputId": "f4ac26d0-a23a-4be6-8560-3f6838b4bebc"
      },
      "outputs": [
        {
          "output_type": "execute_result",
          "data": {
            "text/plain": [
              "array([70, 85, 50, 17, 15, 13, 59, 78, 98, 53, 93, 32, 72, 39, 21, 63, 89,\n",
              "       19,  9, 12, 56, 71, 31, 70, 98, 98, 31, 36, 30, 29, 61, 41, 60, 25,\n",
              "       80, 84, 63, 17, 77, 72, 57, 60, 94, 11,  2, 63, 77,  2])"
            ]
          },
          "metadata": {},
          "execution_count": 16
        }
      ],
      "source": [
        "ranarr = np.random.randint(1, 100, 48)\n",
        "ranarr\n",
        "\n",
        "\n"
      ]
    },
    {
      "cell_type": "raw",
      "metadata": {
        "id": "_B_BOAKpG003"
      },
      "source": [
        "Desired Output (WATCH OUT! Your output may NOT be the same as the one):\n",
        "\n",
        "array([ 6, 21, 18, 53, 38, 37, 30, 47, 19, 44, 29, 12, 14, 37, 24, 14, 16,\n",
        "       18,  3, 19, 19, 41, 28, 41,  3, 47,  4, 18, 27, 44, 15, 21,  5, 55,\n",
        "       38,  9,  5, 50, 15, 20,  7, 26, 45, 39, 37, 23,  6, 10])"
      ]
    },
    {
      "cell_type": "code",
      "execution_count": null,
      "metadata": {
        "id": "3YxAvl1zAd_E",
        "colab": {
          "base_uri": "https://localhost:8080/"
        },
        "outputId": "8b6042cb-6986-4ea2-e02e-c96d3e87bdaa"
      },
      "outputs": [
        {
          "output_type": "execute_result",
          "data": {
            "text/plain": [
              "array([[26, 37, 65, 17, 14, 85, 29, 92],\n",
              "       [ 7, 67, 99, 54, 82, 15, 66, 41],\n",
              "       [82, 36, 36, 98, 54, 74,  5, 14],\n",
              "       [33, 65, 39, 92, 74, 86,  6, 58],\n",
              "       [12, 53, 41, 77, 19, 72, 52, 17],\n",
              "       [48, 11, 52, 98, 34,  6, 25, 47]])"
            ]
          },
          "metadata": {},
          "execution_count": 24
        }
      ],
      "source": [
        "ranarr.reshape(6,8)\n",
        "\n"
      ]
    },
    {
      "cell_type": "raw",
      "metadata": {
        "id": "ICZDORinG004"
      },
      "source": [
        "Desired Output (WATCH OUT! Your output may NOT be the same as the one):\n",
        "\n",
        "array([[ 6, 21, 18, 53, 38, 37, 30, 47],\n",
        "       [19, 44, 29, 12, 14, 37, 24, 14],\n",
        "       [16, 18,  3, 19, 19, 41, 28, 41],\n",
        "       [ 3, 47,  4, 18, 27, 44, 15, 21],\n",
        "       [ 5, 55, 38,  9,  5, 50, 15, 20],\n",
        "       [ 7, 26, 45, 39, 37, 23,  6, 10]])"
      ]
    },
    {
      "cell_type": "code",
      "execution_count": null,
      "metadata": {
        "id": "5PJczaI-Ad_F",
        "colab": {
          "base_uri": "https://localhost:8080/"
        },
        "outputId": "8c7d7a83-571a-40fe-e54a-bb2f9ac4a99a"
      },
      "outputs": [
        {
          "output_type": "execute_result",
          "data": {
            "text/plain": [
              "array([[26, 37, 65, 17, 14, 85, 29, 92],\n",
              "       [ 7, 67, 99, 54, 82, 15, 66, 41],\n",
              "       [82, 36, 36, 98, 54, 74,  5, 14],\n",
              "       [33, 65, 39, 92, 74, 86,  6, 58],\n",
              "       [12, 53, 41, 77, 19, 72, 52, 17],\n",
              "       [48, 11, 52, 98, 34,  6, 25, 47]])"
            ]
          },
          "metadata": {},
          "execution_count": 28
        }
      ],
      "source": [
        "ranarr.reshape(6,-1)\n",
        "\n",
        "\n"
      ]
    },
    {
      "cell_type": "raw",
      "metadata": {
        "id": "DyQSvJ_4G004"
      },
      "source": [
        "Desired Output (WATCH OUT! Your output may NOT be the same as the one):\n",
        "\n",
        "array([[ 6, 21, 18, 53, 38, 37, 30, 47],\n",
        "       [19, 44, 29, 12, 14, 37, 24, 14],\n",
        "       [16, 18,  3, 19, 19, 41, 28, 41],\n",
        "       [ 3, 47,  4, 18, 27, 44, 15, 21],\n",
        "       [ 5, 55, 38,  9,  5, 50, 15, 20],\n",
        "       [ 7, 26, 45, 39, 37, 23,  6, 10]])"
      ]
    },
    {
      "cell_type": "code",
      "execution_count": null,
      "metadata": {
        "id": "S-D1gwJ2G004",
        "colab": {
          "base_uri": "https://localhost:8080/"
        },
        "outputId": "8e972b9a-f79d-4c03-97f2-807baa3553aa"
      },
      "outputs": [
        {
          "output_type": "execute_result",
          "data": {
            "text/plain": [
              "array([[26, 37, 65, 17, 14, 85, 29, 92],\n",
              "       [ 7, 67, 99, 54, 82, 15, 66, 41],\n",
              "       [82, 36, 36, 98, 54, 74,  5, 14],\n",
              "       [33, 65, 39, 92, 74, 86,  6, 58],\n",
              "       [12, 53, 41, 77, 19, 72, 52, 17],\n",
              "       [48, 11, 52, 98, 34,  6, 25, 47]])"
            ]
          },
          "metadata": {},
          "execution_count": 29
        }
      ],
      "source": [
        "ranarr.reshape(-1,8)\n"
      ]
    },
    {
      "cell_type": "raw",
      "metadata": {
        "id": "yn27qcMQG004"
      },
      "source": [
        "Desired Output (WATCH OUT! Your output may NOT be the same as the one):\n",
        "\n",
        "array([[ 6, 21, 18, 53, 38, 37, 30, 47],\n",
        "       [19, 44, 29, 12, 14, 37, 24, 14],\n",
        "       [16, 18,  3, 19, 19, 41, 28, 41],\n",
        "       [ 3, 47,  4, 18, 27, 44, 15, 21],\n",
        "       [ 5, 55, 38,  9,  5, 50, 15, 20],\n",
        "       [ 7, 26, 45, 39, 37, 23,  6, 10]])"
      ]
    },
    {
      "cell_type": "markdown",
      "metadata": {
        "id": "jB4suWaXAd_F"
      },
      "source": [
        "## Numpy Indexing and Selection"
      ]
    },
    {
      "cell_type": "markdown",
      "metadata": {
        "id": "C-k1ZZK1G005"
      },
      "source": [
        "### Create an array named \"mat\" in accordence with the desired output below."
      ]
    },
    {
      "cell_type": "code",
      "execution_count": 6,
      "metadata": {
        "id": "x2zNGxNkAd_F",
        "colab": {
          "base_uri": "https://localhost:8080/"
        },
        "outputId": "a071e593-4e7b-4799-ea68-8eed64f23d46"
      },
      "outputs": [
        {
          "output_type": "execute_result",
          "data": {
            "text/plain": [
              "array([[ 1,  2,  3,  4],\n",
              "       [ 5,  6,  7,  8],\n",
              "       [ 9, 10, 11, 12],\n",
              "       [13, 14, 15, 16]])"
            ]
          },
          "metadata": {},
          "execution_count": 6
        }
      ],
      "source": [
        "my_list = ([[1,2,3,4],[5,6,7,8],[9,10,11,12],[13,14,15,16]])\n",
        "mat = np.array(my_list)\n",
        "mat\n",
        "\n"
      ]
    },
    {
      "cell_type": "raw",
      "metadata": {
        "id": "-g3rTdjQG005"
      },
      "source": [
        "Desired Output:\n",
        "\n",
        "array([[ 1,  2,  3,  4],\n",
        "       [ 5,  6,  7,  8],\n",
        "       [ 9, 10, 11, 12],\n",
        "       [13, 14, 15, 16]])"
      ]
    },
    {
      "cell_type": "markdown",
      "metadata": {
        "id": "wyNXBC0GAd_G"
      },
      "source": [
        "### 14. Using the array above, write a code that reproduces the desired output shown below.<br>"
      ]
    },
    {
      "cell_type": "code",
      "execution_count": null,
      "metadata": {
        "id": "k6FmQqjxAd_G",
        "colab": {
          "base_uri": "https://localhost:8080/"
        },
        "outputId": "a7c5974a-e2c7-4fd3-8090-d8f800dc1c53"
      },
      "outputs": [
        {
          "output_type": "execute_result",
          "data": {
            "text/plain": [
              "array([[ 6,  7],\n",
              "       [10, 11]])"
            ]
          },
          "metadata": {},
          "execution_count": 61
        }
      ],
      "source": [
        "mat[1:3 , 1:3]\n",
        "\n"
      ]
    },
    {
      "cell_type": "raw",
      "metadata": {
        "id": "8uY6kL0AG005"
      },
      "source": [
        "Desired Output:\n",
        "\n",
        "array([[ 6,  7],\n",
        "       [10, 11]])"
      ]
    },
    {
      "cell_type": "markdown",
      "metadata": {
        "id": "bUShSGkJAd_G"
      },
      "source": [
        "### 15. Get the 1st column (index number 0) of the array above."
      ]
    },
    {
      "cell_type": "code",
      "execution_count": 7,
      "metadata": {
        "id": "Wv7YR2drAd_G",
        "colab": {
          "base_uri": "https://localhost:8080/"
        },
        "outputId": "e926327b-f55e-4f22-c580-3d2cdc297adb"
      },
      "outputs": [
        {
          "output_type": "execute_result",
          "data": {
            "text/plain": [
              "array([ 1,  5,  9, 13])"
            ]
          },
          "metadata": {},
          "execution_count": 7
        }
      ],
      "source": [
        "mat[:,0]\n"
      ]
    },
    {
      "cell_type": "raw",
      "metadata": {
        "id": "F_4h15xLG006"
      },
      "source": [
        "Desired Output:\n",
        "\n",
        "array([ 1,  5,  9, 13])"
      ]
    },
    {
      "cell_type": "markdown",
      "metadata": {
        "id": "GGdWljRJAd_H"
      },
      "source": [
        "### 16. Get the values in 2nd row (index number 1) for every 2 step."
      ]
    },
    {
      "cell_type": "code",
      "execution_count": 8,
      "metadata": {
        "id": "7e6tP0NlAd_H",
        "colab": {
          "base_uri": "https://localhost:8080/"
        },
        "outputId": "22415d80-976c-424c-d275-8284fdcfbf5b"
      },
      "outputs": [
        {
          "output_type": "execute_result",
          "data": {
            "text/plain": [
              "array([5, 7])"
            ]
          },
          "metadata": {},
          "execution_count": 8
        }
      ],
      "source": [
        "mat[1,0:4:2]\n"
      ]
    },
    {
      "cell_type": "raw",
      "metadata": {
        "id": "rG-5cqkEG006"
      },
      "source": [
        "Desired Output:\n",
        "\n",
        "array([5, 7])"
      ]
    },
    {
      "cell_type": "markdown",
      "metadata": {
        "id": "aANYlDooAd_H"
      },
      "source": [
        "### 17.Assign 77 to every cell in 3rd column."
      ]
    },
    {
      "cell_type": "code",
      "execution_count": 9,
      "metadata": {
        "id": "oy5AxrK1Ad_I"
      },
      "outputs": [],
      "source": [
        "mat[:,2] = 77\n"
      ]
    },
    {
      "cell_type": "code",
      "source": [
        "mat"
      ],
      "metadata": {
        "colab": {
          "base_uri": "https://localhost:8080/"
        },
        "id": "Ub-UyFXpap97",
        "outputId": "a6d4a5dd-d4ac-459d-9b66-ae8fe7018373"
      },
      "execution_count": null,
      "outputs": [
        {
          "output_type": "execute_result",
          "data": {
            "text/plain": [
              "array([[ 1,  2, 77,  4],\n",
              "       [ 5,  6, 77,  8],\n",
              "       [ 9, 10, 77, 12],\n",
              "       [13, 14, 77, 16]])"
            ]
          },
          "metadata": {},
          "execution_count": 94
        }
      ]
    },
    {
      "cell_type": "raw",
      "metadata": {
        "id": "-GlwMPhUG006"
      },
      "source": [
        "Desired Output:\n",
        "\n",
        "array([[ 1,  2, 77,  4],\n",
        "       [ 5,  6, 77,  8],\n",
        "       [ 9, 10, 77, 12],\n",
        "       [13, 14, 77, 16]])"
      ]
    },
    {
      "cell_type": "markdown",
      "metadata": {
        "id": "OsrIo34xAd_I"
      },
      "source": [
        "### 18. (a) Take 2nd row (index number 1) and 1st column (index number 0) , (b) 4th row (index number 3) and 3rd column (index number 2) ."
      ]
    },
    {
      "cell_type": "code",
      "execution_count": 10,
      "metadata": {
        "id": "fESSmtPDAd_I",
        "colab": {
          "base_uri": "https://localhost:8080/"
        },
        "outputId": "b554dade-7199-4612-b367-394526f05cf5"
      },
      "outputs": [
        {
          "output_type": "execute_result",
          "data": {
            "text/plain": [
              "array([ 5, 77])"
            ]
          },
          "metadata": {},
          "execution_count": 10
        }
      ],
      "source": [
        "mat[[1,3],[0,2]]\n"
      ]
    },
    {
      "cell_type": "raw",
      "metadata": {
        "id": "0dFO5BAOG007"
      },
      "source": [
        "Desired Output:\n",
        "\n",
        "array([ 5, 77])"
      ]
    },
    {
      "cell_type": "markdown",
      "metadata": {
        "id": "dsZDs5vjAd_J"
      },
      "source": [
        "### 19. Take between 2nd and last row with step 2 and between 1st and last column with step 2."
      ]
    },
    {
      "cell_type": "code",
      "execution_count": 12,
      "metadata": {
        "id": "0IW0GtfCAd_J",
        "colab": {
          "base_uri": "https://localhost:8080/"
        },
        "outputId": "de53601a-e7f9-4b97-efdb-a69cdb225c00"
      },
      "outputs": [
        {
          "output_type": "execute_result",
          "data": {
            "text/plain": [
              "array([[ 5, 77],\n",
              "       [13, 77]])"
            ]
          },
          "metadata": {},
          "execution_count": 12
        }
      ],
      "source": [
        "mat[1::2,0::2]"
      ]
    },
    {
      "cell_type": "raw",
      "metadata": {
        "id": "Fwuefir3G007"
      },
      "source": [
        "Desired Output:\n",
        "\n",
        "array([[ 5, 77],\n",
        "       [13, 77]])"
      ]
    },
    {
      "cell_type": "markdown",
      "metadata": {
        "id": "G1aoEVaJAd_J"
      },
      "source": [
        "## NumPy Operations"
      ]
    },
    {
      "cell_type": "markdown",
      "metadata": {
        "id": "2p7ZbeTLAd_K"
      },
      "source": [
        "### 20. Get the sum of values smaller than 10 and values bigger than 12 in \"mat\"."
      ]
    },
    {
      "cell_type": "code",
      "execution_count": null,
      "metadata": {
        "id": "uELWF6W0G007",
        "colab": {
          "base_uri": "https://localhost:8080/"
        },
        "outputId": "d4c719b7-7dbe-4e6e-b181-87b741cd10f8"
      },
      "outputs": [
        {
          "output_type": "execute_result",
          "data": {
            "text/plain": [
              "array([[ 1,  2, 77,  4],\n",
              "       [ 5,  6, 77,  8],\n",
              "       [ 9, 10, 77, 12],\n",
              "       [13, 14, 77, 16]])"
            ]
          },
          "metadata": {},
          "execution_count": 160
        }
      ],
      "source": [
        "# LET US REMEMBER OUR ARRAY OF \"mat\" \n",
        "mat\n",
        "\n",
        "\n"
      ]
    },
    {
      "cell_type": "raw",
      "metadata": {
        "id": "6JNEi7IMG007"
      },
      "source": [
        "Desired Output:\n",
        "\n",
        "array([[ 1,  2, 77,  4],\n",
        "       [ 5,  6, 77,  8],\n",
        "       [ 9, 10, 77, 12],\n",
        "       [13, 14, 77, 16]])"
      ]
    },
    {
      "cell_type": "code",
      "execution_count": null,
      "metadata": {
        "id": "LD_0rzT6Ad_K",
        "colab": {
          "base_uri": "https://localhost:8080/"
        },
        "outputId": "ecbd69b5-3721-4dfe-a3f8-820296511121"
      },
      "outputs": [
        {
          "output_type": "execute_result",
          "data": {
            "text/plain": [
              "array([1, 2, 4, 5, 6, 8, 9])"
            ]
          },
          "metadata": {},
          "execution_count": 156
        }
      ],
      "source": [
        "# LET US FIND THE VALUES SMALLER THAN 10 IN \"mat\"\n",
        "\n",
        "mat[mat < 10]"
      ]
    },
    {
      "cell_type": "raw",
      "metadata": {
        "id": "dfWMB4PBG00_"
      },
      "source": [
        "Desired Output:\n",
        "\n",
        "array([1, 2, 4, 5, 6, 8, 9])"
      ]
    },
    {
      "cell_type": "code",
      "execution_count": null,
      "metadata": {
        "id": "RIpotHKeAd_K",
        "colab": {
          "base_uri": "https://localhost:8080/"
        },
        "outputId": "ba63693b-fa83-4f9e-acc6-1f2ecbf73b87"
      },
      "outputs": [
        {
          "output_type": "execute_result",
          "data": {
            "text/plain": [
              "array([77, 77, 77, 13, 14, 77, 16])"
            ]
          },
          "metadata": {},
          "execution_count": 157
        }
      ],
      "source": [
        "# LET US FIND THE VALUES BIGGER THAN 12 IN \"mat\" \n",
        "\n",
        "mat[mat > 12]\n",
        "\n"
      ]
    },
    {
      "cell_type": "raw",
      "metadata": {
        "id": "22fiwIylG00_"
      },
      "source": [
        "Desired Output:\n",
        "\n",
        "array([77, 77, 77, 13, 14, 77, 16])"
      ]
    },
    {
      "cell_type": "code",
      "execution_count": null,
      "metadata": {
        "id": "m4XkRQFiAd_K",
        "colab": {
          "base_uri": "https://localhost:8080/"
        },
        "outputId": "d4f40b82-d3ab-46ac-d57d-ac173643ad46"
      },
      "outputs": [
        {
          "output_type": "execute_result",
          "data": {
            "text/plain": [
              "array([78, 79, 81, 18, 20, 85, 25])"
            ]
          },
          "metadata": {},
          "execution_count": 158
        }
      ],
      "source": [
        "# LET US SUM THE VALUES SMALLER THAN 10 AND BIGGER THAN 12 IN \"mat\" \n",
        "\n",
        "mat[mat < 10]+mat[mat > 12]\n",
        "\n"
      ]
    },
    {
      "cell_type": "raw",
      "metadata": {
        "id": "3JmqwxlQG00_"
      },
      "source": [
        "Desired Output:\n",
        "\n",
        "array([78, 79, 81, 18, 20, 85, 25])"
      ]
    },
    {
      "cell_type": "markdown",
      "metadata": {
        "id": "adWvgD-oAd_L"
      },
      "source": [
        "### 21. Get the standard deviation (std) of the result above."
      ]
    },
    {
      "cell_type": "code",
      "execution_count": null,
      "metadata": {
        "id": "96DAIF1fAd_L",
        "colab": {
          "base_uri": "https://localhost:8080/"
        },
        "outputId": "4638bede-fbc2-4c0b-8f6d-344d228ebf87"
      },
      "outputs": [
        {
          "output_type": "execute_result",
          "data": {
            "text/plain": [
              "29.700546274093877"
            ]
          },
          "metadata": {},
          "execution_count": 159
        }
      ],
      "source": [
        "# YOUR CODE IS HERE \n",
        "\n",
        "np.std(mat[mat < 10]+mat[mat > 12])"
      ]
    },
    {
      "cell_type": "raw",
      "metadata": {
        "id": "23sDWox1G00_"
      },
      "source": [
        "Desired Output:\n",
        "\n",
        "29.700546274093877"
      ]
    },
    {
      "cell_type": "markdown",
      "metadata": {
        "id": "FkhK2cOqAd_L"
      },
      "source": [
        "### 22. Get the sum of the 2nd column in the original \"mat\"."
      ]
    },
    {
      "cell_type": "code",
      "execution_count": null,
      "metadata": {
        "id": "XDQqGSzkAd_M",
        "colab": {
          "base_uri": "https://localhost:8080/"
        },
        "outputId": "8fcc9d1e-af6e-470b-e2d3-32a6f287c354"
      },
      "outputs": [
        {
          "output_type": "execute_result",
          "data": {
            "text/plain": [
              "array([[ 1,  2, 77,  4],\n",
              "       [ 5,  6, 77,  8],\n",
              "       [ 9, 10, 77, 12],\n",
              "       [13, 14, 77, 16]])"
            ]
          },
          "metadata": {},
          "execution_count": 162
        }
      ],
      "source": [
        "# LET US REMEMBER OUR ARRAY OF \"mat\" \n",
        "\n",
        "mat"
      ]
    },
    {
      "cell_type": "raw",
      "metadata": {
        "id": "bzjui0JNG01A"
      },
      "source": [
        "Desired Output:\n",
        "\n",
        "array([[ 1,  2, 77,  4],\n",
        "       [ 5,  6, 77,  8],\n",
        "       [ 9, 10, 77, 12],\n",
        "       [13, 14, 77, 16]])"
      ]
    },
    {
      "cell_type": "code",
      "execution_count": null,
      "metadata": {
        "id": "qNeP5ttGAd_M",
        "colab": {
          "base_uri": "https://localhost:8080/"
        },
        "outputId": "56a9a151-5ba0-4aa0-a710-ceede9d2dfca"
      },
      "outputs": [
        {
          "output_type": "execute_result",
          "data": {
            "text/plain": [
              "array([[ 1,  2,  3,  4],\n",
              "       [ 5,  6,  7,  8],\n",
              "       [ 9, 10, 11, 12],\n",
              "       [13, 14, 15, 16]])"
            ]
          },
          "metadata": {},
          "execution_count": 168
        }
      ],
      "source": [
        "# LET OBTAIN THE ORIGINAL ARRAY OF \"mat\" \n",
        "\n"
      ]
    },
    {
      "cell_type": "raw",
      "metadata": {
        "id": "DS-iIpugG01A"
      },
      "source": [
        "Desired Output:\n",
        "\n",
        "array([[ 1,  2,  3,  4],\n",
        "       [ 5,  6,  7,  8],\n",
        "       [ 9, 10, 11, 12],\n",
        "       [13, 14, 15, 16]])"
      ]
    },
    {
      "cell_type": "code",
      "execution_count": null,
      "metadata": {
        "id": "xzqyV2SZAd_M",
        "scrolled": true,
        "colab": {
          "base_uri": "https://localhost:8080/"
        },
        "outputId": "dd53d1bd-eaae-429c-af26-6e08b2506e63"
      },
      "outputs": [
        {
          "output_type": "execute_result",
          "data": {
            "text/plain": [
              "32"
            ]
          },
          "metadata": {},
          "execution_count": 174
        }
      ],
      "source": [
        "np.sum(mat[:,1:2])\n",
        "\n"
      ]
    },
    {
      "cell_type": "raw",
      "metadata": {
        "id": "H8QMJOilG01A"
      },
      "source": [
        "Desired Output:\n",
        "\n",
        "32"
      ]
    },
    {
      "cell_type": "markdown",
      "metadata": {
        "id": "kCQ1GvPUAd_N"
      },
      "source": [
        "### 23. Get the median, mean and std of 3rd column in \"mat\"."
      ]
    },
    {
      "cell_type": "code",
      "execution_count": null,
      "metadata": {
        "id": "b9Jlvtz8G01A",
        "colab": {
          "base_uri": "https://localhost:8080/"
        },
        "outputId": "ad3ecd0c-ba52-467a-8285-f294219f7cdb"
      },
      "outputs": [
        {
          "output_type": "execute_result",
          "data": {
            "text/plain": [
              "array([[ 1,  2,  3,  4],\n",
              "       [ 5,  6,  7,  8],\n",
              "       [ 9, 10, 11, 12],\n",
              "       [13, 14, 15, 16]])"
            ]
          },
          "metadata": {},
          "execution_count": 178
        }
      ],
      "source": [
        "# LET US REMEMBER OUR ARRAY OF \"mat\" \n",
        "mat\n",
        "\n",
        "\n"
      ]
    },
    {
      "cell_type": "raw",
      "metadata": {
        "id": "QFrrz8OMG01B"
      },
      "source": [
        "Desired Output:\n",
        "\n",
        "array([[ 1,  2,  3,  4],\n",
        "       [ 5,  6,  7,  8],\n",
        "       [ 9, 10, 11, 12],\n",
        "       [13, 14, 15, 16]])"
      ]
    },
    {
      "cell_type": "code",
      "execution_count": null,
      "metadata": {
        "id": "__LpbQK1G01B",
        "colab": {
          "base_uri": "https://localhost:8080/"
        },
        "outputId": "2ae6a106-456e-4be3-fab6-aad82f34669f"
      },
      "outputs": [
        {
          "output_type": "execute_result",
          "data": {
            "text/plain": [
              "array([[ 3],\n",
              "       [ 7],\n",
              "       [11],\n",
              "       [15]])"
            ]
          },
          "metadata": {},
          "execution_count": 179
        }
      ],
      "source": [
        "# LET US ASSIGN THE COLUMN WE ARE INTERESTED IN TO A VARIABLE \n",
        "\n",
        "mat[:,2:3] \n",
        "\n"
      ]
    },
    {
      "cell_type": "raw",
      "metadata": {
        "id": "mzmQQSLhG01B"
      },
      "source": [
        "Desired Output:\n",
        "\n",
        "array([[ 3],\n",
        "       [ 7],\n",
        "       [11],\n",
        "       [15]])"
      ]
    },
    {
      "cell_type": "code",
      "execution_count": null,
      "metadata": {
        "id": "XWb4Lkh9G01B",
        "colab": {
          "base_uri": "https://localhost:8080/"
        },
        "outputId": "e2e1741a-fcc3-48e4-e418-751375a25f18"
      },
      "outputs": [
        {
          "output_type": "execute_result",
          "data": {
            "text/plain": [
              "array([ 9, 10, 11, 12])"
            ]
          },
          "metadata": {},
          "execution_count": 180
        }
      ],
      "source": [
        "# WHAT IF WE ARE INTERESTED IN THE 3RD ROW? \n",
        "\n",
        "mat[2,:]\n",
        "\n"
      ]
    },
    {
      "cell_type": "raw",
      "metadata": {
        "id": "9k6LKs0KG01B"
      },
      "source": [
        "Desired Output:\n",
        "\n",
        "array([ 9, 10, 11, 12])"
      ]
    },
    {
      "cell_type": "code",
      "execution_count": null,
      "metadata": {
        "id": "OX4fqkipAd_N",
        "colab": {
          "base_uri": "https://localhost:8080/"
        },
        "outputId": "3b18e88a-01ea-41bb-c917-ba7e16f653ac"
      },
      "outputs": [
        {
          "output_type": "execute_result",
          "data": {
            "text/plain": [
              "9.0"
            ]
          },
          "metadata": {},
          "execution_count": 183
        }
      ],
      "source": [
        "# LET US GET MEDIAN VALUE \n",
        "\n",
        "np.median(mat[:,2:3])        \n"
      ]
    },
    {
      "cell_type": "code",
      "source": [
        "\n",
        "np.mean(mat[:,2:3])"
      ],
      "metadata": {
        "colab": {
          "base_uri": "https://localhost:8080/"
        },
        "id": "jNij6DnaAQQ9",
        "outputId": "feffd49a-6edb-4325-f7eb-dd706650db87"
      },
      "execution_count": null,
      "outputs": [
        {
          "output_type": "execute_result",
          "data": {
            "text/plain": [
              "9.0"
            ]
          },
          "metadata": {},
          "execution_count": 195
        }
      ]
    },
    {
      "cell_type": "raw",
      "metadata": {
        "id": "uahfXnLOG01B"
      },
      "source": [
        "Desired Output:\n",
        "\n",
        "9.0\n",
        "10.5"
      ]
    },
    {
      "cell_type": "code",
      "execution_count": null,
      "metadata": {
        "id": "oZpsC7rFAd_N",
        "colab": {
          "base_uri": "https://localhost:8080/"
        },
        "outputId": "d6548ed1-096d-4a32-d8de-6140d6eea1b9"
      },
      "outputs": [
        {
          "output_type": "execute_result",
          "data": {
            "text/plain": [
              "10.5"
            ]
          },
          "metadata": {},
          "execution_count": 191
        }
      ],
      "source": [
        "# LET US GET MEAN VALUE \n",
        "\n",
        "np.mean(mat[2,:])            # Note to instructor: However the question is about Get the mean of 3rd column in \"mat\", the desired output shows the 3rd row. \n",
        "                             # So, I have calculated the this one.\n"
      ]
    },
    {
      "cell_type": "code",
      "source": [
        "np.median(mat[2,:]) "
      ],
      "metadata": {
        "colab": {
          "base_uri": "https://localhost:8080/"
        },
        "id": "swF4iIQQAXys",
        "outputId": "57351755-41f7-4fb0-b148-d579141616b0"
      },
      "execution_count": null,
      "outputs": [
        {
          "output_type": "execute_result",
          "data": {
            "text/plain": [
              "10.5"
            ]
          },
          "metadata": {},
          "execution_count": 196
        }
      ]
    },
    {
      "cell_type": "raw",
      "metadata": {
        "id": "b6Ru-yP5G01B"
      },
      "source": [
        "Desired Output:\n",
        "\n",
        "9.0\n",
        "10.5"
      ]
    },
    {
      "cell_type": "code",
      "execution_count": null,
      "metadata": {
        "id": "g8bveYJuAd_O",
        "colab": {
          "base_uri": "https://localhost:8080/"
        },
        "outputId": "34a74de9-7b7f-41d5-f22a-dc89b097140c"
      },
      "outputs": [
        {
          "output_type": "execute_result",
          "data": {
            "text/plain": [
              "4.47213595499958"
            ]
          },
          "metadata": {},
          "execution_count": 193
        }
      ],
      "source": [
        "# LET US GET STANDART DEVIATION (std) VALUE \n",
        "\n",
        "np.std(mat[:,2:3])"
      ]
    },
    {
      "cell_type": "code",
      "source": [
        "np.std(mat[2,:])"
      ],
      "metadata": {
        "colab": {
          "base_uri": "https://localhost:8080/"
        },
        "id": "b2tR7QYpAAad",
        "outputId": "eff4b978-9168-450f-99f5-5724f309389f"
      },
      "execution_count": null,
      "outputs": [
        {
          "output_type": "execute_result",
          "data": {
            "text/plain": [
              "1.118033988749895"
            ]
          },
          "metadata": {},
          "execution_count": 194
        }
      ]
    },
    {
      "cell_type": "raw",
      "metadata": {
        "id": "5CTBUNxrG01C"
      },
      "source": [
        "Desired Output:\n",
        "\n",
        "4.47213595499958\n",
        "1.118033988749895"
      ]
    },
    {
      "cell_type": "markdown",
      "metadata": {
        "collapsed": true,
        "id": "gZ5HUfC4Ad_O"
      },
      "source": [
        "## <p style=\"background-color:#9d4f8c; font-family:newtimeroman; color:#FFF9ED; font-size:175%; text-align:center; border-radius:10px 10px;\">Pandas Section</p>\n",
        "\n",
        "<a id=\"1\"></a>\n",
        "<a href=\"#toc\" class=\"btn btn-primary btn-sm\" role=\"button\" aria-pressed=\"true\" \n",
        "style=\"color:blue; background-color:#dfa8e4\" data-toggle=\"popover\">Content</a>"
      ]
    },
    {
      "cell_type": "markdown",
      "metadata": {
        "id": "xwc2fwAOG01C"
      },
      "source": [
        "### Import Pandas Library"
      ]
    },
    {
      "cell_type": "code",
      "execution_count": 16,
      "metadata": {
        "id": "lrbS4u52Ad_P"
      },
      "outputs": [],
      "source": [
        "import pandas as pd"
      ]
    },
    {
      "cell_type": "markdown",
      "metadata": {
        "id": "eacrpv_7Ad_P"
      },
      "source": [
        "### Read Salaries.csv and take a look at the first 5 rows, df info and df statistical measurements.*"
      ]
    },
    {
      "cell_type": "code",
      "execution_count": 17,
      "metadata": {
        "id": "OP4b0LcTAd_P"
      },
      "outputs": [],
      "source": [
        "# LET US READ Salaries.csv \n",
        "\n",
        "df = pd.read_csv('Salaries.csv')\n"
      ]
    },
    {
      "cell_type": "code",
      "execution_count": null,
      "metadata": {
        "id": "qc6Tt4loAd_Q",
        "colab": {
          "base_uri": "https://localhost:8080/",
          "height": 206
        },
        "outputId": "7bb3765a-0acb-4133-da5d-d13c3360740d"
      },
      "outputs": [
        {
          "output_type": "execute_result",
          "data": {
            "text/plain": [
              "   Id       EmployeeName                                        JobTitle  \\\n",
              "0   1     NATHANIEL FORD  GENERAL MANAGER-METROPOLITAN TRANSIT AUTHORITY   \n",
              "1   2       GARY JIMENEZ                 CAPTAIN III (POLICE DEPARTMENT)   \n",
              "2   3     ALBERT PARDINI                 CAPTAIN III (POLICE DEPARTMENT)   \n",
              "3   4  CHRISTOPHER CHONG            WIRE ROPE CABLE MAINTENANCE MECHANIC   \n",
              "4   5    PATRICK GARDNER    DEPUTY CHIEF OF DEPARTMENT,(FIRE DEPARTMENT)   \n",
              "\n",
              "     BasePay  OvertimePay   OtherPay  Benefits   TotalPay  TotalPayBenefits  \\\n",
              "0  167411.18         0.00  400184.25       NaN  567595.43         567595.43   \n",
              "1  155966.02    245131.88  137811.38       NaN  538909.28         538909.28   \n",
              "2  212739.13    106088.18   16452.60       NaN  335279.91         335279.91   \n",
              "3   77916.00     56120.71  198306.90       NaN  332343.61         332343.61   \n",
              "4  134401.60      9737.00  182234.59       NaN  326373.19         326373.19   \n",
              "\n",
              "   Year  Notes         Agency  Status  \n",
              "0  2011    NaN  San Francisco     NaN  \n",
              "1  2011    NaN  San Francisco     NaN  \n",
              "2  2011    NaN  San Francisco     NaN  \n",
              "3  2011    NaN  San Francisco     NaN  \n",
              "4  2011    NaN  San Francisco     NaN  "
            ],
            "text/html": [
              "\n",
              "  <div id=\"df-3de072aa-287b-464b-81d5-07b07780e36b\">\n",
              "    <div class=\"colab-df-container\">\n",
              "      <div>\n",
              "<style scoped>\n",
              "    .dataframe tbody tr th:only-of-type {\n",
              "        vertical-align: middle;\n",
              "    }\n",
              "\n",
              "    .dataframe tbody tr th {\n",
              "        vertical-align: top;\n",
              "    }\n",
              "\n",
              "    .dataframe thead th {\n",
              "        text-align: right;\n",
              "    }\n",
              "</style>\n",
              "<table border=\"1\" class=\"dataframe\">\n",
              "  <thead>\n",
              "    <tr style=\"text-align: right;\">\n",
              "      <th></th>\n",
              "      <th>Id</th>\n",
              "      <th>EmployeeName</th>\n",
              "      <th>JobTitle</th>\n",
              "      <th>BasePay</th>\n",
              "      <th>OvertimePay</th>\n",
              "      <th>OtherPay</th>\n",
              "      <th>Benefits</th>\n",
              "      <th>TotalPay</th>\n",
              "      <th>TotalPayBenefits</th>\n",
              "      <th>Year</th>\n",
              "      <th>Notes</th>\n",
              "      <th>Agency</th>\n",
              "      <th>Status</th>\n",
              "    </tr>\n",
              "  </thead>\n",
              "  <tbody>\n",
              "    <tr>\n",
              "      <th>0</th>\n",
              "      <td>1</td>\n",
              "      <td>NATHANIEL FORD</td>\n",
              "      <td>GENERAL MANAGER-METROPOLITAN TRANSIT AUTHORITY</td>\n",
              "      <td>167411.18</td>\n",
              "      <td>0.00</td>\n",
              "      <td>400184.25</td>\n",
              "      <td>NaN</td>\n",
              "      <td>567595.43</td>\n",
              "      <td>567595.43</td>\n",
              "      <td>2011</td>\n",
              "      <td>NaN</td>\n",
              "      <td>San Francisco</td>\n",
              "      <td>NaN</td>\n",
              "    </tr>\n",
              "    <tr>\n",
              "      <th>1</th>\n",
              "      <td>2</td>\n",
              "      <td>GARY JIMENEZ</td>\n",
              "      <td>CAPTAIN III (POLICE DEPARTMENT)</td>\n",
              "      <td>155966.02</td>\n",
              "      <td>245131.88</td>\n",
              "      <td>137811.38</td>\n",
              "      <td>NaN</td>\n",
              "      <td>538909.28</td>\n",
              "      <td>538909.28</td>\n",
              "      <td>2011</td>\n",
              "      <td>NaN</td>\n",
              "      <td>San Francisco</td>\n",
              "      <td>NaN</td>\n",
              "    </tr>\n",
              "    <tr>\n",
              "      <th>2</th>\n",
              "      <td>3</td>\n",
              "      <td>ALBERT PARDINI</td>\n",
              "      <td>CAPTAIN III (POLICE DEPARTMENT)</td>\n",
              "      <td>212739.13</td>\n",
              "      <td>106088.18</td>\n",
              "      <td>16452.60</td>\n",
              "      <td>NaN</td>\n",
              "      <td>335279.91</td>\n",
              "      <td>335279.91</td>\n",
              "      <td>2011</td>\n",
              "      <td>NaN</td>\n",
              "      <td>San Francisco</td>\n",
              "      <td>NaN</td>\n",
              "    </tr>\n",
              "    <tr>\n",
              "      <th>3</th>\n",
              "      <td>4</td>\n",
              "      <td>CHRISTOPHER CHONG</td>\n",
              "      <td>WIRE ROPE CABLE MAINTENANCE MECHANIC</td>\n",
              "      <td>77916.00</td>\n",
              "      <td>56120.71</td>\n",
              "      <td>198306.90</td>\n",
              "      <td>NaN</td>\n",
              "      <td>332343.61</td>\n",
              "      <td>332343.61</td>\n",
              "      <td>2011</td>\n",
              "      <td>NaN</td>\n",
              "      <td>San Francisco</td>\n",
              "      <td>NaN</td>\n",
              "    </tr>\n",
              "    <tr>\n",
              "      <th>4</th>\n",
              "      <td>5</td>\n",
              "      <td>PATRICK GARDNER</td>\n",
              "      <td>DEPUTY CHIEF OF DEPARTMENT,(FIRE DEPARTMENT)</td>\n",
              "      <td>134401.60</td>\n",
              "      <td>9737.00</td>\n",
              "      <td>182234.59</td>\n",
              "      <td>NaN</td>\n",
              "      <td>326373.19</td>\n",
              "      <td>326373.19</td>\n",
              "      <td>2011</td>\n",
              "      <td>NaN</td>\n",
              "      <td>San Francisco</td>\n",
              "      <td>NaN</td>\n",
              "    </tr>\n",
              "  </tbody>\n",
              "</table>\n",
              "</div>\n",
              "      <button class=\"colab-df-convert\" onclick=\"convertToInteractive('df-3de072aa-287b-464b-81d5-07b07780e36b')\"\n",
              "              title=\"Convert this dataframe to an interactive table.\"\n",
              "              style=\"display:none;\">\n",
              "        \n",
              "  <svg xmlns=\"http://www.w3.org/2000/svg\" height=\"24px\"viewBox=\"0 0 24 24\"\n",
              "       width=\"24px\">\n",
              "    <path d=\"M0 0h24v24H0V0z\" fill=\"none\"/>\n",
              "    <path d=\"M18.56 5.44l.94 2.06.94-2.06 2.06-.94-2.06-.94-.94-2.06-.94 2.06-2.06.94zm-11 1L8.5 8.5l.94-2.06 2.06-.94-2.06-.94L8.5 2.5l-.94 2.06-2.06.94zm10 10l.94 2.06.94-2.06 2.06-.94-2.06-.94-.94-2.06-.94 2.06-2.06.94z\"/><path d=\"M17.41 7.96l-1.37-1.37c-.4-.4-.92-.59-1.43-.59-.52 0-1.04.2-1.43.59L10.3 9.45l-7.72 7.72c-.78.78-.78 2.05 0 2.83L4 21.41c.39.39.9.59 1.41.59.51 0 1.02-.2 1.41-.59l7.78-7.78 2.81-2.81c.8-.78.8-2.07 0-2.86zM5.41 20L4 18.59l7.72-7.72 1.47 1.35L5.41 20z\"/>\n",
              "  </svg>\n",
              "      </button>\n",
              "      \n",
              "  <style>\n",
              "    .colab-df-container {\n",
              "      display:flex;\n",
              "      flex-wrap:wrap;\n",
              "      gap: 12px;\n",
              "    }\n",
              "\n",
              "    .colab-df-convert {\n",
              "      background-color: #E8F0FE;\n",
              "      border: none;\n",
              "      border-radius: 50%;\n",
              "      cursor: pointer;\n",
              "      display: none;\n",
              "      fill: #1967D2;\n",
              "      height: 32px;\n",
              "      padding: 0 0 0 0;\n",
              "      width: 32px;\n",
              "    }\n",
              "\n",
              "    .colab-df-convert:hover {\n",
              "      background-color: #E2EBFA;\n",
              "      box-shadow: 0px 1px 2px rgba(60, 64, 67, 0.3), 0px 1px 3px 1px rgba(60, 64, 67, 0.15);\n",
              "      fill: #174EA6;\n",
              "    }\n",
              "\n",
              "    [theme=dark] .colab-df-convert {\n",
              "      background-color: #3B4455;\n",
              "      fill: #D2E3FC;\n",
              "    }\n",
              "\n",
              "    [theme=dark] .colab-df-convert:hover {\n",
              "      background-color: #434B5C;\n",
              "      box-shadow: 0px 1px 3px 1px rgba(0, 0, 0, 0.15);\n",
              "      filter: drop-shadow(0px 1px 2px rgba(0, 0, 0, 0.3));\n",
              "      fill: #FFFFFF;\n",
              "    }\n",
              "  </style>\n",
              "\n",
              "      <script>\n",
              "        const buttonEl =\n",
              "          document.querySelector('#df-3de072aa-287b-464b-81d5-07b07780e36b button.colab-df-convert');\n",
              "        buttonEl.style.display =\n",
              "          google.colab.kernel.accessAllowed ? 'block' : 'none';\n",
              "\n",
              "        async function convertToInteractive(key) {\n",
              "          const element = document.querySelector('#df-3de072aa-287b-464b-81d5-07b07780e36b');\n",
              "          const dataTable =\n",
              "            await google.colab.kernel.invokeFunction('convertToInteractive',\n",
              "                                                     [key], {});\n",
              "          if (!dataTable) return;\n",
              "\n",
              "          const docLinkHtml = 'Like what you see? Visit the ' +\n",
              "            '<a target=\"_blank\" href=https://colab.research.google.com/notebooks/data_table.ipynb>data table notebook</a>'\n",
              "            + ' to learn more about interactive tables.';\n",
              "          element.innerHTML = '';\n",
              "          dataTable['output_type'] = 'display_data';\n",
              "          await google.colab.output.renderOutput(dataTable, element);\n",
              "          const docLink = document.createElement('div');\n",
              "          docLink.innerHTML = docLinkHtml;\n",
              "          element.appendChild(docLink);\n",
              "        }\n",
              "      </script>\n",
              "    </div>\n",
              "  </div>\n",
              "  "
            ]
          },
          "metadata": {},
          "execution_count": 34
        }
      ],
      "source": [
        "# LET US LOOK AT THE FIRST 5 ROWS \n",
        "\n",
        "df.head(5)\n"
      ]
    },
    {
      "cell_type": "markdown",
      "metadata": {
        "id": "oBzeqU9JG01C"
      },
      "source": [
        "Desired Output:\n",
        "\n",
        "![image.png](https://i.ibb.co/6BTmGX8/assignment1a.png)"
      ]
    },
    {
      "cell_type": "code",
      "execution_count": null,
      "metadata": {
        "id": "YwUmq9IAAd_Q",
        "colab": {
          "base_uri": "https://localhost:8080/",
          "height": 81
        },
        "outputId": "8e4a564e-a566-4204-96f3-1e5ae01f02fd"
      },
      "outputs": [
        {
          "output_type": "execute_result",
          "data": {
            "text/plain": [
              "          Id EmployeeName                     JobTitle   BasePay  OvertimePay  \\\n",
              "93252  93253  Susan  Wong  Senior Water Services Clerk  68067.02       330.87   \n",
              "\n",
              "       OtherPay  Benefits  TotalPay  TotalPayBenefits  Year  Notes  \\\n",
              "93252       0.0  27166.89  68397.89          95564.78  2013    NaN   \n",
              "\n",
              "              Agency  Status  \n",
              "93252  San Francisco     NaN  "
            ],
            "text/html": [
              "\n",
              "  <div id=\"df-1b4e22f7-7379-4dc6-912c-cb02f5629e93\">\n",
              "    <div class=\"colab-df-container\">\n",
              "      <div>\n",
              "<style scoped>\n",
              "    .dataframe tbody tr th:only-of-type {\n",
              "        vertical-align: middle;\n",
              "    }\n",
              "\n",
              "    .dataframe tbody tr th {\n",
              "        vertical-align: top;\n",
              "    }\n",
              "\n",
              "    .dataframe thead th {\n",
              "        text-align: right;\n",
              "    }\n",
              "</style>\n",
              "<table border=\"1\" class=\"dataframe\">\n",
              "  <thead>\n",
              "    <tr style=\"text-align: right;\">\n",
              "      <th></th>\n",
              "      <th>Id</th>\n",
              "      <th>EmployeeName</th>\n",
              "      <th>JobTitle</th>\n",
              "      <th>BasePay</th>\n",
              "      <th>OvertimePay</th>\n",
              "      <th>OtherPay</th>\n",
              "      <th>Benefits</th>\n",
              "      <th>TotalPay</th>\n",
              "      <th>TotalPayBenefits</th>\n",
              "      <th>Year</th>\n",
              "      <th>Notes</th>\n",
              "      <th>Agency</th>\n",
              "      <th>Status</th>\n",
              "    </tr>\n",
              "  </thead>\n",
              "  <tbody>\n",
              "    <tr>\n",
              "      <th>93252</th>\n",
              "      <td>93253</td>\n",
              "      <td>Susan  Wong</td>\n",
              "      <td>Senior Water Services Clerk</td>\n",
              "      <td>68067.02</td>\n",
              "      <td>330.87</td>\n",
              "      <td>0.0</td>\n",
              "      <td>27166.89</td>\n",
              "      <td>68397.89</td>\n",
              "      <td>95564.78</td>\n",
              "      <td>2013</td>\n",
              "      <td>NaN</td>\n",
              "      <td>San Francisco</td>\n",
              "      <td>NaN</td>\n",
              "    </tr>\n",
              "  </tbody>\n",
              "</table>\n",
              "</div>\n",
              "      <button class=\"colab-df-convert\" onclick=\"convertToInteractive('df-1b4e22f7-7379-4dc6-912c-cb02f5629e93')\"\n",
              "              title=\"Convert this dataframe to an interactive table.\"\n",
              "              style=\"display:none;\">\n",
              "        \n",
              "  <svg xmlns=\"http://www.w3.org/2000/svg\" height=\"24px\"viewBox=\"0 0 24 24\"\n",
              "       width=\"24px\">\n",
              "    <path d=\"M0 0h24v24H0V0z\" fill=\"none\"/>\n",
              "    <path d=\"M18.56 5.44l.94 2.06.94-2.06 2.06-.94-2.06-.94-.94-2.06-.94 2.06-2.06.94zm-11 1L8.5 8.5l.94-2.06 2.06-.94-2.06-.94L8.5 2.5l-.94 2.06-2.06.94zm10 10l.94 2.06.94-2.06 2.06-.94-2.06-.94-.94-2.06-.94 2.06-2.06.94z\"/><path d=\"M17.41 7.96l-1.37-1.37c-.4-.4-.92-.59-1.43-.59-.52 0-1.04.2-1.43.59L10.3 9.45l-7.72 7.72c-.78.78-.78 2.05 0 2.83L4 21.41c.39.39.9.59 1.41.59.51 0 1.02-.2 1.41-.59l7.78-7.78 2.81-2.81c.8-.78.8-2.07 0-2.86zM5.41 20L4 18.59l7.72-7.72 1.47 1.35L5.41 20z\"/>\n",
              "  </svg>\n",
              "      </button>\n",
              "      \n",
              "  <style>\n",
              "    .colab-df-container {\n",
              "      display:flex;\n",
              "      flex-wrap:wrap;\n",
              "      gap: 12px;\n",
              "    }\n",
              "\n",
              "    .colab-df-convert {\n",
              "      background-color: #E8F0FE;\n",
              "      border: none;\n",
              "      border-radius: 50%;\n",
              "      cursor: pointer;\n",
              "      display: none;\n",
              "      fill: #1967D2;\n",
              "      height: 32px;\n",
              "      padding: 0 0 0 0;\n",
              "      width: 32px;\n",
              "    }\n",
              "\n",
              "    .colab-df-convert:hover {\n",
              "      background-color: #E2EBFA;\n",
              "      box-shadow: 0px 1px 2px rgba(60, 64, 67, 0.3), 0px 1px 3px 1px rgba(60, 64, 67, 0.15);\n",
              "      fill: #174EA6;\n",
              "    }\n",
              "\n",
              "    [theme=dark] .colab-df-convert {\n",
              "      background-color: #3B4455;\n",
              "      fill: #D2E3FC;\n",
              "    }\n",
              "\n",
              "    [theme=dark] .colab-df-convert:hover {\n",
              "      background-color: #434B5C;\n",
              "      box-shadow: 0px 1px 3px 1px rgba(0, 0, 0, 0.15);\n",
              "      filter: drop-shadow(0px 1px 2px rgba(0, 0, 0, 0.3));\n",
              "      fill: #FFFFFF;\n",
              "    }\n",
              "  </style>\n",
              "\n",
              "      <script>\n",
              "        const buttonEl =\n",
              "          document.querySelector('#df-1b4e22f7-7379-4dc6-912c-cb02f5629e93 button.colab-df-convert');\n",
              "        buttonEl.style.display =\n",
              "          google.colab.kernel.accessAllowed ? 'block' : 'none';\n",
              "\n",
              "        async function convertToInteractive(key) {\n",
              "          const element = document.querySelector('#df-1b4e22f7-7379-4dc6-912c-cb02f5629e93');\n",
              "          const dataTable =\n",
              "            await google.colab.kernel.invokeFunction('convertToInteractive',\n",
              "                                                     [key], {});\n",
              "          if (!dataTable) return;\n",
              "\n",
              "          const docLinkHtml = 'Like what you see? Visit the ' +\n",
              "            '<a target=\"_blank\" href=https://colab.research.google.com/notebooks/data_table.ipynb>data table notebook</a>'\n",
              "            + ' to learn more about interactive tables.';\n",
              "          element.innerHTML = '';\n",
              "          dataTable['output_type'] = 'display_data';\n",
              "          await google.colab.output.renderOutput(dataTable, element);\n",
              "          const docLink = document.createElement('div');\n",
              "          docLink.innerHTML = docLinkHtml;\n",
              "          element.appendChild(docLink);\n",
              "        }\n",
              "      </script>\n",
              "    </div>\n",
              "  </div>\n",
              "  "
            ]
          },
          "metadata": {},
          "execution_count": 35
        }
      ],
      "source": [
        "# LET US GET A SAMPLE \n",
        " \n",
        "df.sample()"
      ]
    },
    {
      "cell_type": "markdown",
      "metadata": {
        "id": "DID_wAcEG01D"
      },
      "source": [
        "Desired Output (WATCH OUT! Your output may NOT be the same as the one):\n",
        "\n",
        "![image.png](https://i.ibb.co/mcsCxxC/assignment1b.png)"
      ]
    },
    {
      "cell_type": "code",
      "execution_count": null,
      "metadata": {
        "id": "WuXy195gAd_Q",
        "colab": {
          "base_uri": "https://localhost:8080/"
        },
        "outputId": "3ed2ee75-b9c7-463e-d737-c4fffba111a0"
      },
      "outputs": [
        {
          "output_type": "stream",
          "name": "stdout",
          "text": [
            "<class 'pandas.core.frame.DataFrame'>\n",
            "RangeIndex: 148654 entries, 0 to 148653\n",
            "Data columns (total 13 columns):\n",
            " #   Column            Non-Null Count   Dtype  \n",
            "---  ------            --------------   -----  \n",
            " 0   Id                148654 non-null  int64  \n",
            " 1   EmployeeName      148654 non-null  object \n",
            " 2   JobTitle          148654 non-null  object \n",
            " 3   BasePay           148045 non-null  float64\n",
            " 4   OvertimePay       148650 non-null  float64\n",
            " 5   OtherPay          148650 non-null  float64\n",
            " 6   Benefits          112491 non-null  float64\n",
            " 7   TotalPay          148654 non-null  float64\n",
            " 8   TotalPayBenefits  148654 non-null  float64\n",
            " 9   Year              148654 non-null  int64  \n",
            " 10  Notes             0 non-null       float64\n",
            " 11  Agency            148654 non-null  object \n",
            " 12  Status            0 non-null       float64\n",
            "dtypes: float64(8), int64(2), object(3)\n",
            "memory usage: 14.7+ MB\n"
          ]
        }
      ],
      "source": [
        "df.info()\n",
        "\n"
      ]
    },
    {
      "cell_type": "raw",
      "metadata": {
        "id": "2UTzamjmG01D"
      },
      "source": [
        "Desired Output:\n",
        "\n",
        "<class 'pandas.core.frame.DataFrame'>\n",
        "RangeIndex: 148654 entries, 0 to 148653\n",
        "Data columns (total 13 columns):\n",
        " #   Column            Non-Null Count   Dtype  \n",
        "---  ------            --------------   -----  \n",
        " 0   Id                148654 non-null  int64  \n",
        " 1   EmployeeName      148654 non-null  object \n",
        " 2   JobTitle          148654 non-null  object \n",
        " 3   BasePay           148045 non-null  float64\n",
        " 4   OvertimePay       148650 non-null  float64\n",
        " 5   OtherPay          148650 non-null  float64\n",
        " 6   Benefits          112491 non-null  float64\n",
        " 7   TotalPay          148654 non-null  float64\n",
        " 8   TotalPayBenefits  148654 non-null  float64\n",
        " 9   Year              148654 non-null  int64  \n",
        " 10  Notes             0 non-null       float64\n",
        " 11  Agency            148654 non-null  object \n",
        " 12  Status            0 non-null       float64\n",
        "dtypes: float64(8), int64(2), object(3)\n",
        "memory usage: 14.7+ MB"
      ]
    },
    {
      "cell_type": "code",
      "execution_count": null,
      "metadata": {
        "id": "02GV54nZAd_R",
        "colab": {
          "base_uri": "https://localhost:8080/",
          "height": 300
        },
        "outputId": "6abf289d-7cde-476b-b7c4-7b868858b3a8"
      },
      "outputs": [
        {
          "output_type": "execute_result",
          "data": {
            "text/plain": [
              "                  Id        BasePay    OvertimePay       OtherPay  \\\n",
              "count  148654.000000  148045.000000  148650.000000  148650.000000   \n",
              "mean    74327.500000   66325.448840    5066.059886    3648.767297   \n",
              "std     42912.857795   42764.635495   11454.380559    8056.601866   \n",
              "min         1.000000    -166.010000      -0.010000   -7058.590000   \n",
              "25%     37164.250000   33588.200000       0.000000       0.000000   \n",
              "50%     74327.500000   65007.450000       0.000000     811.270000   \n",
              "75%    111490.750000   94691.050000    4658.175000    4236.065000   \n",
              "max    148654.000000  319275.010000  245131.880000  400184.250000   \n",
              "\n",
              "            Benefits       TotalPay  TotalPayBenefits           Year  Notes  \\\n",
              "count  112491.000000  148654.000000     148654.000000  148654.000000    0.0   \n",
              "mean    25007.893151   74768.321972      93692.554811    2012.522643    NaN   \n",
              "std     15402.215858   50517.005274      62793.533483       1.117538    NaN   \n",
              "min       -33.890000    -618.130000       -618.130000    2011.000000    NaN   \n",
              "25%     11535.395000   36168.995000      44065.650000    2012.000000    NaN   \n",
              "50%     28628.620000   71426.610000      92404.090000    2013.000000    NaN   \n",
              "75%     35566.855000  105839.135000     132876.450000    2014.000000    NaN   \n",
              "max     96570.660000  567595.430000     567595.430000    2014.000000    NaN   \n",
              "\n",
              "       Status  \n",
              "count     0.0  \n",
              "mean      NaN  \n",
              "std       NaN  \n",
              "min       NaN  \n",
              "25%       NaN  \n",
              "50%       NaN  \n",
              "75%       NaN  \n",
              "max       NaN  "
            ],
            "text/html": [
              "\n",
              "  <div id=\"df-324abde5-eeea-46eb-82fb-2127304bd54e\">\n",
              "    <div class=\"colab-df-container\">\n",
              "      <div>\n",
              "<style scoped>\n",
              "    .dataframe tbody tr th:only-of-type {\n",
              "        vertical-align: middle;\n",
              "    }\n",
              "\n",
              "    .dataframe tbody tr th {\n",
              "        vertical-align: top;\n",
              "    }\n",
              "\n",
              "    .dataframe thead th {\n",
              "        text-align: right;\n",
              "    }\n",
              "</style>\n",
              "<table border=\"1\" class=\"dataframe\">\n",
              "  <thead>\n",
              "    <tr style=\"text-align: right;\">\n",
              "      <th></th>\n",
              "      <th>Id</th>\n",
              "      <th>BasePay</th>\n",
              "      <th>OvertimePay</th>\n",
              "      <th>OtherPay</th>\n",
              "      <th>Benefits</th>\n",
              "      <th>TotalPay</th>\n",
              "      <th>TotalPayBenefits</th>\n",
              "      <th>Year</th>\n",
              "      <th>Notes</th>\n",
              "      <th>Status</th>\n",
              "    </tr>\n",
              "  </thead>\n",
              "  <tbody>\n",
              "    <tr>\n",
              "      <th>count</th>\n",
              "      <td>148654.000000</td>\n",
              "      <td>148045.000000</td>\n",
              "      <td>148650.000000</td>\n",
              "      <td>148650.000000</td>\n",
              "      <td>112491.000000</td>\n",
              "      <td>148654.000000</td>\n",
              "      <td>148654.000000</td>\n",
              "      <td>148654.000000</td>\n",
              "      <td>0.0</td>\n",
              "      <td>0.0</td>\n",
              "    </tr>\n",
              "    <tr>\n",
              "      <th>mean</th>\n",
              "      <td>74327.500000</td>\n",
              "      <td>66325.448840</td>\n",
              "      <td>5066.059886</td>\n",
              "      <td>3648.767297</td>\n",
              "      <td>25007.893151</td>\n",
              "      <td>74768.321972</td>\n",
              "      <td>93692.554811</td>\n",
              "      <td>2012.522643</td>\n",
              "      <td>NaN</td>\n",
              "      <td>NaN</td>\n",
              "    </tr>\n",
              "    <tr>\n",
              "      <th>std</th>\n",
              "      <td>42912.857795</td>\n",
              "      <td>42764.635495</td>\n",
              "      <td>11454.380559</td>\n",
              "      <td>8056.601866</td>\n",
              "      <td>15402.215858</td>\n",
              "      <td>50517.005274</td>\n",
              "      <td>62793.533483</td>\n",
              "      <td>1.117538</td>\n",
              "      <td>NaN</td>\n",
              "      <td>NaN</td>\n",
              "    </tr>\n",
              "    <tr>\n",
              "      <th>min</th>\n",
              "      <td>1.000000</td>\n",
              "      <td>-166.010000</td>\n",
              "      <td>-0.010000</td>\n",
              "      <td>-7058.590000</td>\n",
              "      <td>-33.890000</td>\n",
              "      <td>-618.130000</td>\n",
              "      <td>-618.130000</td>\n",
              "      <td>2011.000000</td>\n",
              "      <td>NaN</td>\n",
              "      <td>NaN</td>\n",
              "    </tr>\n",
              "    <tr>\n",
              "      <th>25%</th>\n",
              "      <td>37164.250000</td>\n",
              "      <td>33588.200000</td>\n",
              "      <td>0.000000</td>\n",
              "      <td>0.000000</td>\n",
              "      <td>11535.395000</td>\n",
              "      <td>36168.995000</td>\n",
              "      <td>44065.650000</td>\n",
              "      <td>2012.000000</td>\n",
              "      <td>NaN</td>\n",
              "      <td>NaN</td>\n",
              "    </tr>\n",
              "    <tr>\n",
              "      <th>50%</th>\n",
              "      <td>74327.500000</td>\n",
              "      <td>65007.450000</td>\n",
              "      <td>0.000000</td>\n",
              "      <td>811.270000</td>\n",
              "      <td>28628.620000</td>\n",
              "      <td>71426.610000</td>\n",
              "      <td>92404.090000</td>\n",
              "      <td>2013.000000</td>\n",
              "      <td>NaN</td>\n",
              "      <td>NaN</td>\n",
              "    </tr>\n",
              "    <tr>\n",
              "      <th>75%</th>\n",
              "      <td>111490.750000</td>\n",
              "      <td>94691.050000</td>\n",
              "      <td>4658.175000</td>\n",
              "      <td>4236.065000</td>\n",
              "      <td>35566.855000</td>\n",
              "      <td>105839.135000</td>\n",
              "      <td>132876.450000</td>\n",
              "      <td>2014.000000</td>\n",
              "      <td>NaN</td>\n",
              "      <td>NaN</td>\n",
              "    </tr>\n",
              "    <tr>\n",
              "      <th>max</th>\n",
              "      <td>148654.000000</td>\n",
              "      <td>319275.010000</td>\n",
              "      <td>245131.880000</td>\n",
              "      <td>400184.250000</td>\n",
              "      <td>96570.660000</td>\n",
              "      <td>567595.430000</td>\n",
              "      <td>567595.430000</td>\n",
              "      <td>2014.000000</td>\n",
              "      <td>NaN</td>\n",
              "      <td>NaN</td>\n",
              "    </tr>\n",
              "  </tbody>\n",
              "</table>\n",
              "</div>\n",
              "      <button class=\"colab-df-convert\" onclick=\"convertToInteractive('df-324abde5-eeea-46eb-82fb-2127304bd54e')\"\n",
              "              title=\"Convert this dataframe to an interactive table.\"\n",
              "              style=\"display:none;\">\n",
              "        \n",
              "  <svg xmlns=\"http://www.w3.org/2000/svg\" height=\"24px\"viewBox=\"0 0 24 24\"\n",
              "       width=\"24px\">\n",
              "    <path d=\"M0 0h24v24H0V0z\" fill=\"none\"/>\n",
              "    <path d=\"M18.56 5.44l.94 2.06.94-2.06 2.06-.94-2.06-.94-.94-2.06-.94 2.06-2.06.94zm-11 1L8.5 8.5l.94-2.06 2.06-.94-2.06-.94L8.5 2.5l-.94 2.06-2.06.94zm10 10l.94 2.06.94-2.06 2.06-.94-2.06-.94-.94-2.06-.94 2.06-2.06.94z\"/><path d=\"M17.41 7.96l-1.37-1.37c-.4-.4-.92-.59-1.43-.59-.52 0-1.04.2-1.43.59L10.3 9.45l-7.72 7.72c-.78.78-.78 2.05 0 2.83L4 21.41c.39.39.9.59 1.41.59.51 0 1.02-.2 1.41-.59l7.78-7.78 2.81-2.81c.8-.78.8-2.07 0-2.86zM5.41 20L4 18.59l7.72-7.72 1.47 1.35L5.41 20z\"/>\n",
              "  </svg>\n",
              "      </button>\n",
              "      \n",
              "  <style>\n",
              "    .colab-df-container {\n",
              "      display:flex;\n",
              "      flex-wrap:wrap;\n",
              "      gap: 12px;\n",
              "    }\n",
              "\n",
              "    .colab-df-convert {\n",
              "      background-color: #E8F0FE;\n",
              "      border: none;\n",
              "      border-radius: 50%;\n",
              "      cursor: pointer;\n",
              "      display: none;\n",
              "      fill: #1967D2;\n",
              "      height: 32px;\n",
              "      padding: 0 0 0 0;\n",
              "      width: 32px;\n",
              "    }\n",
              "\n",
              "    .colab-df-convert:hover {\n",
              "      background-color: #E2EBFA;\n",
              "      box-shadow: 0px 1px 2px rgba(60, 64, 67, 0.3), 0px 1px 3px 1px rgba(60, 64, 67, 0.15);\n",
              "      fill: #174EA6;\n",
              "    }\n",
              "\n",
              "    [theme=dark] .colab-df-convert {\n",
              "      background-color: #3B4455;\n",
              "      fill: #D2E3FC;\n",
              "    }\n",
              "\n",
              "    [theme=dark] .colab-df-convert:hover {\n",
              "      background-color: #434B5C;\n",
              "      box-shadow: 0px 1px 3px 1px rgba(0, 0, 0, 0.15);\n",
              "      filter: drop-shadow(0px 1px 2px rgba(0, 0, 0, 0.3));\n",
              "      fill: #FFFFFF;\n",
              "    }\n",
              "  </style>\n",
              "\n",
              "      <script>\n",
              "        const buttonEl =\n",
              "          document.querySelector('#df-324abde5-eeea-46eb-82fb-2127304bd54e button.colab-df-convert');\n",
              "        buttonEl.style.display =\n",
              "          google.colab.kernel.accessAllowed ? 'block' : 'none';\n",
              "\n",
              "        async function convertToInteractive(key) {\n",
              "          const element = document.querySelector('#df-324abde5-eeea-46eb-82fb-2127304bd54e');\n",
              "          const dataTable =\n",
              "            await google.colab.kernel.invokeFunction('convertToInteractive',\n",
              "                                                     [key], {});\n",
              "          if (!dataTable) return;\n",
              "\n",
              "          const docLinkHtml = 'Like what you see? Visit the ' +\n",
              "            '<a target=\"_blank\" href=https://colab.research.google.com/notebooks/data_table.ipynb>data table notebook</a>'\n",
              "            + ' to learn more about interactive tables.';\n",
              "          element.innerHTML = '';\n",
              "          dataTable['output_type'] = 'display_data';\n",
              "          await google.colab.output.renderOutput(dataTable, element);\n",
              "          const docLink = document.createElement('div');\n",
              "          docLink.innerHTML = docLinkHtml;\n",
              "          element.appendChild(docLink);\n",
              "        }\n",
              "      </script>\n",
              "    </div>\n",
              "  </div>\n",
              "  "
            ]
          },
          "metadata": {},
          "execution_count": 46
        }
      ],
      "source": [
        "# LET US GET SOME DESCRIPTIVE MEASUREMENTS  \n",
        "\n",
        "df.describe()"
      ]
    },
    {
      "cell_type": "markdown",
      "metadata": {
        "id": "YOnqpwc6G01D"
      },
      "source": [
        "Desired Output:\n",
        "\n",
        "![image.png](https://i.ibb.co/ftMP67H/assignmnet1c.png)"
      ]
    },
    {
      "cell_type": "markdown",
      "metadata": {
        "id": "vIWqIPCdAd_R"
      },
      "source": [
        "### How many different year values are there?"
      ]
    },
    {
      "cell_type": "code",
      "execution_count": 18,
      "metadata": {
        "id": "3Gd7NdFIG01D",
        "colab": {
          "base_uri": "https://localhost:8080/"
        },
        "outputId": "063fd774-1485-4fc9-a4fd-1c92a7e2ee52"
      },
      "outputs": [
        {
          "output_type": "execute_result",
          "data": {
            "text/plain": [
              "2014    38123\n",
              "2013    37606\n",
              "2012    36766\n",
              "2011    36159\n",
              "Name: Year, dtype: int64"
            ]
          },
          "metadata": {},
          "execution_count": 18
        }
      ],
      "source": [
        "df[\"Year\"].value_counts()\n"
      ]
    },
    {
      "cell_type": "raw",
      "metadata": {
        "id": "11v74IwlG01D"
      },
      "source": [
        "Desired Output:\n",
        "\n",
        "2014    38123\n",
        "2013    37606\n",
        "2012    36766\n",
        "2011    36159\n",
        "Name: Year, dtype: int64"
      ]
    },
    {
      "cell_type": "code",
      "execution_count": 21,
      "metadata": {
        "id": "_QXgY1bWAd_S",
        "colab": {
          "base_uri": "https://localhost:8080/"
        },
        "outputId": "09a19cb5-ba5f-4451-e267-4f9bd3476f2a"
      },
      "outputs": [
        {
          "output_type": "execute_result",
          "data": {
            "text/plain": [
              "4"
            ]
          },
          "metadata": {},
          "execution_count": 21
        }
      ],
      "source": [
        "# LET US FIND THE NUMBER OF UNIQUE VALUES IN THE COLUMN OF \"Year\"\n",
        "\n",
        "df[\"Year\"].nunique()   "
      ]
    },
    {
      "cell_type": "raw",
      "metadata": {
        "id": "xJTI_IsyG01E"
      },
      "source": [
        "Desired Output:\n",
        "\n",
        "4"
      ]
    },
    {
      "cell_type": "code",
      "execution_count": 22,
      "metadata": {
        "id": "ZQ_DIG1AG01E",
        "colab": {
          "base_uri": "https://localhost:8080/"
        },
        "outputId": "1a895d02-c042-4086-9cb2-1c3f33515d2b"
      },
      "outputs": [
        {
          "output_type": "execute_result",
          "data": {
            "text/plain": [
              "array([2011, 2012, 2013, 2014])"
            ]
          },
          "metadata": {},
          "execution_count": 22
        }
      ],
      "source": [
        "# LET US FIND THE UNIQUE VALUES IN THE COLUMN OF \"Year\"\n",
        "\n",
        "df[\"Year\"].unique()\n",
        "\n"
      ]
    },
    {
      "cell_type": "raw",
      "metadata": {
        "id": "6HM6YSFmG01E"
      },
      "source": [
        "Desired Output:\n",
        "\n",
        "array([2011, 2012, 2013, 2014], dtype=int64)"
      ]
    },
    {
      "cell_type": "markdown",
      "metadata": {
        "id": "3KfOM05LAd_S"
      },
      "source": [
        "### Print out max and avg values in the column of \"Totalpay\"."
      ]
    },
    {
      "cell_type": "code",
      "execution_count": null,
      "metadata": {
        "id": "gZM_k1oGAd_S",
        "colab": {
          "base_uri": "https://localhost:8080/"
        },
        "outputId": "69aad7a8-5189-48a4-938a-d3fb32f42adc"
      },
      "outputs": [
        {
          "output_type": "execute_result",
          "data": {
            "text/plain": [
              "567595.43"
            ]
          },
          "metadata": {},
          "execution_count": 50
        }
      ],
      "source": [
        "# LET US FIND THE MAXIMUM TOTALPAY\n",
        "\n",
        "df[\"TotalPay\"].max()\n",
        "\n"
      ]
    },
    {
      "cell_type": "raw",
      "metadata": {
        "id": "WyFyy3qnG01E"
      },
      "source": [
        "Desired Output:\n",
        "\n",
        "567595.43"
      ]
    },
    {
      "cell_type": "code",
      "execution_count": 19,
      "metadata": {
        "id": "5QVwTgbKAd_S",
        "colab": {
          "base_uri": "https://localhost:8080/"
        },
        "outputId": "a0eb2a49-a07d-43da-f2fc-684811d5b1c7"
      },
      "outputs": [
        {
          "output_type": "execute_result",
          "data": {
            "text/plain": [
              "74768.32197169267"
            ]
          },
          "metadata": {},
          "execution_count": 19
        }
      ],
      "source": [
        "# LET US FIND THE AVERAGE TOTALPAY\n",
        "\n",
        "df[\"TotalPay\"].mean()\n",
        "\n"
      ]
    },
    {
      "cell_type": "raw",
      "metadata": {
        "id": "g2ReDmuOG01F"
      },
      "source": [
        "Desired Output:\n",
        "\n",
        "74768.321971703"
      ]
    },
    {
      "cell_type": "markdown",
      "metadata": {
        "id": "PBH4LugjAd_T"
      },
      "source": [
        "### How many records in the TotalPay column are there bigger than avg TotalPay?"
      ]
    },
    {
      "cell_type": "code",
      "execution_count": 23,
      "metadata": {
        "id": "h91_Q4OmG01F",
        "colab": {
          "base_uri": "https://localhost:8080/",
          "height": 641
        },
        "outputId": "98ba3170-ae1f-4e71-f74d-937264d5f17b"
      },
      "outputs": [
        {
          "output_type": "execute_result",
          "data": {
            "text/plain": [
              "            Id       EmployeeName  \\\n",
              "0            1     NATHANIEL FORD   \n",
              "1            2       GARY JIMENEZ   \n",
              "2            3     ALBERT PARDINI   \n",
              "3            4  CHRISTOPHER CHONG   \n",
              "4            5    PATRICK GARDNER   \n",
              "...        ...                ...   \n",
              "135701  135702    Christina S Jee   \n",
              "135778  135779  Mary Ann T Abille   \n",
              "135847  135848   Emilda E Reinosa   \n",
              "135853  135854      David G Evans   \n",
              "136063  136064         Nicole Joe   \n",
              "\n",
              "                                              JobTitle    BasePay  \\\n",
              "0       GENERAL MANAGER-METROPOLITAN TRANSIT AUTHORITY  167411.18   \n",
              "1                      CAPTAIN III (POLICE DEPARTMENT)  155966.02   \n",
              "2                      CAPTAIN III (POLICE DEPARTMENT)  212739.13   \n",
              "3                 WIRE ROPE CABLE MAINTENANCE MECHANIC   77916.00   \n",
              "4         DEPUTY CHIEF OF DEPARTMENT,(FIRE DEPARTMENT)  134401.60   \n",
              "...                                                ...        ...   \n",
              "135701                              Nurse Practitioner   70635.61   \n",
              "135778                                   Special Nurse   60889.34   \n",
              "135847                                   Special Nurse   76305.74   \n",
              "135853                                   Special Nurse   71178.15   \n",
              "136063                                   Special Nurse   61276.59   \n",
              "\n",
              "        OvertimePay   OtherPay  Benefits   TotalPay  TotalPayBenefits  Year  \\\n",
              "0              0.00  400184.25       NaN  567595.43         567595.43  2011   \n",
              "1         245131.88  137811.38       NaN  538909.28         538909.28  2011   \n",
              "2         106088.18   16452.60       NaN  335279.91         335279.91  2011   \n",
              "3          56120.71  198306.90       NaN  332343.61         332343.61  2011   \n",
              "4           9737.00  182234.59       NaN  326373.19         326373.19  2011   \n",
              "...             ...        ...       ...        ...               ...   ...   \n",
              "135701         0.00    6550.41    771.88   77186.02          77957.90  2014   \n",
              "135778      6815.67    9041.21    767.47   76746.22          77513.69  2014   \n",
              "135847         0.00       0.00    763.08   76305.74          77068.82  2014   \n",
              "135853      2748.15    2354.40    762.81   76280.70          77043.51  2014   \n",
              "136063      8538.44    5078.67    748.95   74893.70          75642.65  2014   \n",
              "\n",
              "        Notes         Agency  Status  \n",
              "0         NaN  San Francisco     NaN  \n",
              "1         NaN  San Francisco     NaN  \n",
              "2         NaN  San Francisco     NaN  \n",
              "3         NaN  San Francisco     NaN  \n",
              "4         NaN  San Francisco     NaN  \n",
              "...       ...            ...     ...  \n",
              "135701    NaN  San Francisco     NaN  \n",
              "135778    NaN  San Francisco     NaN  \n",
              "135847    NaN  San Francisco     NaN  \n",
              "135853    NaN  San Francisco     NaN  \n",
              "136063    NaN  San Francisco     NaN  \n",
              "\n",
              "[69489 rows x 13 columns]"
            ],
            "text/html": [
              "\n",
              "  <div id=\"df-0bc2ffb8-0de0-46a6-b1ea-eb0f544713ec\">\n",
              "    <div class=\"colab-df-container\">\n",
              "      <div>\n",
              "<style scoped>\n",
              "    .dataframe tbody tr th:only-of-type {\n",
              "        vertical-align: middle;\n",
              "    }\n",
              "\n",
              "    .dataframe tbody tr th {\n",
              "        vertical-align: top;\n",
              "    }\n",
              "\n",
              "    .dataframe thead th {\n",
              "        text-align: right;\n",
              "    }\n",
              "</style>\n",
              "<table border=\"1\" class=\"dataframe\">\n",
              "  <thead>\n",
              "    <tr style=\"text-align: right;\">\n",
              "      <th></th>\n",
              "      <th>Id</th>\n",
              "      <th>EmployeeName</th>\n",
              "      <th>JobTitle</th>\n",
              "      <th>BasePay</th>\n",
              "      <th>OvertimePay</th>\n",
              "      <th>OtherPay</th>\n",
              "      <th>Benefits</th>\n",
              "      <th>TotalPay</th>\n",
              "      <th>TotalPayBenefits</th>\n",
              "      <th>Year</th>\n",
              "      <th>Notes</th>\n",
              "      <th>Agency</th>\n",
              "      <th>Status</th>\n",
              "    </tr>\n",
              "  </thead>\n",
              "  <tbody>\n",
              "    <tr>\n",
              "      <th>0</th>\n",
              "      <td>1</td>\n",
              "      <td>NATHANIEL FORD</td>\n",
              "      <td>GENERAL MANAGER-METROPOLITAN TRANSIT AUTHORITY</td>\n",
              "      <td>167411.18</td>\n",
              "      <td>0.00</td>\n",
              "      <td>400184.25</td>\n",
              "      <td>NaN</td>\n",
              "      <td>567595.43</td>\n",
              "      <td>567595.43</td>\n",
              "      <td>2011</td>\n",
              "      <td>NaN</td>\n",
              "      <td>San Francisco</td>\n",
              "      <td>NaN</td>\n",
              "    </tr>\n",
              "    <tr>\n",
              "      <th>1</th>\n",
              "      <td>2</td>\n",
              "      <td>GARY JIMENEZ</td>\n",
              "      <td>CAPTAIN III (POLICE DEPARTMENT)</td>\n",
              "      <td>155966.02</td>\n",
              "      <td>245131.88</td>\n",
              "      <td>137811.38</td>\n",
              "      <td>NaN</td>\n",
              "      <td>538909.28</td>\n",
              "      <td>538909.28</td>\n",
              "      <td>2011</td>\n",
              "      <td>NaN</td>\n",
              "      <td>San Francisco</td>\n",
              "      <td>NaN</td>\n",
              "    </tr>\n",
              "    <tr>\n",
              "      <th>2</th>\n",
              "      <td>3</td>\n",
              "      <td>ALBERT PARDINI</td>\n",
              "      <td>CAPTAIN III (POLICE DEPARTMENT)</td>\n",
              "      <td>212739.13</td>\n",
              "      <td>106088.18</td>\n",
              "      <td>16452.60</td>\n",
              "      <td>NaN</td>\n",
              "      <td>335279.91</td>\n",
              "      <td>335279.91</td>\n",
              "      <td>2011</td>\n",
              "      <td>NaN</td>\n",
              "      <td>San Francisco</td>\n",
              "      <td>NaN</td>\n",
              "    </tr>\n",
              "    <tr>\n",
              "      <th>3</th>\n",
              "      <td>4</td>\n",
              "      <td>CHRISTOPHER CHONG</td>\n",
              "      <td>WIRE ROPE CABLE MAINTENANCE MECHANIC</td>\n",
              "      <td>77916.00</td>\n",
              "      <td>56120.71</td>\n",
              "      <td>198306.90</td>\n",
              "      <td>NaN</td>\n",
              "      <td>332343.61</td>\n",
              "      <td>332343.61</td>\n",
              "      <td>2011</td>\n",
              "      <td>NaN</td>\n",
              "      <td>San Francisco</td>\n",
              "      <td>NaN</td>\n",
              "    </tr>\n",
              "    <tr>\n",
              "      <th>4</th>\n",
              "      <td>5</td>\n",
              "      <td>PATRICK GARDNER</td>\n",
              "      <td>DEPUTY CHIEF OF DEPARTMENT,(FIRE DEPARTMENT)</td>\n",
              "      <td>134401.60</td>\n",
              "      <td>9737.00</td>\n",
              "      <td>182234.59</td>\n",
              "      <td>NaN</td>\n",
              "      <td>326373.19</td>\n",
              "      <td>326373.19</td>\n",
              "      <td>2011</td>\n",
              "      <td>NaN</td>\n",
              "      <td>San Francisco</td>\n",
              "      <td>NaN</td>\n",
              "    </tr>\n",
              "    <tr>\n",
              "      <th>...</th>\n",
              "      <td>...</td>\n",
              "      <td>...</td>\n",
              "      <td>...</td>\n",
              "      <td>...</td>\n",
              "      <td>...</td>\n",
              "      <td>...</td>\n",
              "      <td>...</td>\n",
              "      <td>...</td>\n",
              "      <td>...</td>\n",
              "      <td>...</td>\n",
              "      <td>...</td>\n",
              "      <td>...</td>\n",
              "      <td>...</td>\n",
              "    </tr>\n",
              "    <tr>\n",
              "      <th>135701</th>\n",
              "      <td>135702</td>\n",
              "      <td>Christina S Jee</td>\n",
              "      <td>Nurse Practitioner</td>\n",
              "      <td>70635.61</td>\n",
              "      <td>0.00</td>\n",
              "      <td>6550.41</td>\n",
              "      <td>771.88</td>\n",
              "      <td>77186.02</td>\n",
              "      <td>77957.90</td>\n",
              "      <td>2014</td>\n",
              "      <td>NaN</td>\n",
              "      <td>San Francisco</td>\n",
              "      <td>NaN</td>\n",
              "    </tr>\n",
              "    <tr>\n",
              "      <th>135778</th>\n",
              "      <td>135779</td>\n",
              "      <td>Mary Ann T Abille</td>\n",
              "      <td>Special Nurse</td>\n",
              "      <td>60889.34</td>\n",
              "      <td>6815.67</td>\n",
              "      <td>9041.21</td>\n",
              "      <td>767.47</td>\n",
              "      <td>76746.22</td>\n",
              "      <td>77513.69</td>\n",
              "      <td>2014</td>\n",
              "      <td>NaN</td>\n",
              "      <td>San Francisco</td>\n",
              "      <td>NaN</td>\n",
              "    </tr>\n",
              "    <tr>\n",
              "      <th>135847</th>\n",
              "      <td>135848</td>\n",
              "      <td>Emilda E Reinosa</td>\n",
              "      <td>Special Nurse</td>\n",
              "      <td>76305.74</td>\n",
              "      <td>0.00</td>\n",
              "      <td>0.00</td>\n",
              "      <td>763.08</td>\n",
              "      <td>76305.74</td>\n",
              "      <td>77068.82</td>\n",
              "      <td>2014</td>\n",
              "      <td>NaN</td>\n",
              "      <td>San Francisco</td>\n",
              "      <td>NaN</td>\n",
              "    </tr>\n",
              "    <tr>\n",
              "      <th>135853</th>\n",
              "      <td>135854</td>\n",
              "      <td>David G Evans</td>\n",
              "      <td>Special Nurse</td>\n",
              "      <td>71178.15</td>\n",
              "      <td>2748.15</td>\n",
              "      <td>2354.40</td>\n",
              "      <td>762.81</td>\n",
              "      <td>76280.70</td>\n",
              "      <td>77043.51</td>\n",
              "      <td>2014</td>\n",
              "      <td>NaN</td>\n",
              "      <td>San Francisco</td>\n",
              "      <td>NaN</td>\n",
              "    </tr>\n",
              "    <tr>\n",
              "      <th>136063</th>\n",
              "      <td>136064</td>\n",
              "      <td>Nicole Joe</td>\n",
              "      <td>Special Nurse</td>\n",
              "      <td>61276.59</td>\n",
              "      <td>8538.44</td>\n",
              "      <td>5078.67</td>\n",
              "      <td>748.95</td>\n",
              "      <td>74893.70</td>\n",
              "      <td>75642.65</td>\n",
              "      <td>2014</td>\n",
              "      <td>NaN</td>\n",
              "      <td>San Francisco</td>\n",
              "      <td>NaN</td>\n",
              "    </tr>\n",
              "  </tbody>\n",
              "</table>\n",
              "<p>69489 rows × 13 columns</p>\n",
              "</div>\n",
              "      <button class=\"colab-df-convert\" onclick=\"convertToInteractive('df-0bc2ffb8-0de0-46a6-b1ea-eb0f544713ec')\"\n",
              "              title=\"Convert this dataframe to an interactive table.\"\n",
              "              style=\"display:none;\">\n",
              "        \n",
              "  <svg xmlns=\"http://www.w3.org/2000/svg\" height=\"24px\"viewBox=\"0 0 24 24\"\n",
              "       width=\"24px\">\n",
              "    <path d=\"M0 0h24v24H0V0z\" fill=\"none\"/>\n",
              "    <path d=\"M18.56 5.44l.94 2.06.94-2.06 2.06-.94-2.06-.94-.94-2.06-.94 2.06-2.06.94zm-11 1L8.5 8.5l.94-2.06 2.06-.94-2.06-.94L8.5 2.5l-.94 2.06-2.06.94zm10 10l.94 2.06.94-2.06 2.06-.94-2.06-.94-.94-2.06-.94 2.06-2.06.94z\"/><path d=\"M17.41 7.96l-1.37-1.37c-.4-.4-.92-.59-1.43-.59-.52 0-1.04.2-1.43.59L10.3 9.45l-7.72 7.72c-.78.78-.78 2.05 0 2.83L4 21.41c.39.39.9.59 1.41.59.51 0 1.02-.2 1.41-.59l7.78-7.78 2.81-2.81c.8-.78.8-2.07 0-2.86zM5.41 20L4 18.59l7.72-7.72 1.47 1.35L5.41 20z\"/>\n",
              "  </svg>\n",
              "      </button>\n",
              "      \n",
              "  <style>\n",
              "    .colab-df-container {\n",
              "      display:flex;\n",
              "      flex-wrap:wrap;\n",
              "      gap: 12px;\n",
              "    }\n",
              "\n",
              "    .colab-df-convert {\n",
              "      background-color: #E8F0FE;\n",
              "      border: none;\n",
              "      border-radius: 50%;\n",
              "      cursor: pointer;\n",
              "      display: none;\n",
              "      fill: #1967D2;\n",
              "      height: 32px;\n",
              "      padding: 0 0 0 0;\n",
              "      width: 32px;\n",
              "    }\n",
              "\n",
              "    .colab-df-convert:hover {\n",
              "      background-color: #E2EBFA;\n",
              "      box-shadow: 0px 1px 2px rgba(60, 64, 67, 0.3), 0px 1px 3px 1px rgba(60, 64, 67, 0.15);\n",
              "      fill: #174EA6;\n",
              "    }\n",
              "\n",
              "    [theme=dark] .colab-df-convert {\n",
              "      background-color: #3B4455;\n",
              "      fill: #D2E3FC;\n",
              "    }\n",
              "\n",
              "    [theme=dark] .colab-df-convert:hover {\n",
              "      background-color: #434B5C;\n",
              "      box-shadow: 0px 1px 3px 1px rgba(0, 0, 0, 0.15);\n",
              "      filter: drop-shadow(0px 1px 2px rgba(0, 0, 0, 0.3));\n",
              "      fill: #FFFFFF;\n",
              "    }\n",
              "  </style>\n",
              "\n",
              "      <script>\n",
              "        const buttonEl =\n",
              "          document.querySelector('#df-0bc2ffb8-0de0-46a6-b1ea-eb0f544713ec button.colab-df-convert');\n",
              "        buttonEl.style.display =\n",
              "          google.colab.kernel.accessAllowed ? 'block' : 'none';\n",
              "\n",
              "        async function convertToInteractive(key) {\n",
              "          const element = document.querySelector('#df-0bc2ffb8-0de0-46a6-b1ea-eb0f544713ec');\n",
              "          const dataTable =\n",
              "            await google.colab.kernel.invokeFunction('convertToInteractive',\n",
              "                                                     [key], {});\n",
              "          if (!dataTable) return;\n",
              "\n",
              "          const docLinkHtml = 'Like what you see? Visit the ' +\n",
              "            '<a target=\"_blank\" href=https://colab.research.google.com/notebooks/data_table.ipynb>data table notebook</a>'\n",
              "            + ' to learn more about interactive tables.';\n",
              "          element.innerHTML = '';\n",
              "          dataTable['output_type'] = 'display_data';\n",
              "          await google.colab.output.renderOutput(dataTable, element);\n",
              "          const docLink = document.createElement('div');\n",
              "          docLink.innerHTML = docLinkHtml;\n",
              "          element.appendChild(docLink);\n",
              "        }\n",
              "      </script>\n",
              "    </div>\n",
              "  </div>\n",
              "  "
            ]
          },
          "metadata": {},
          "execution_count": 23
        }
      ],
      "source": [
        "# YOUR CODE IS HERE\n",
        "\n",
        "df.loc[(df.TotalPay > df[\"TotalPay\"].mean())]       # df[ df[\"TotalPay\"] > df[\"TotalPay\"].mean() ]\n",
        "\n"
      ]
    },
    {
      "cell_type": "markdown",
      "metadata": {
        "id": "RxKxfWwoG01F"
      },
      "source": [
        "Desired Output:\n",
        "\n",
        "![image.png](https://i.ibb.co/nj84FbZ/assignment1d.png)"
      ]
    },
    {
      "cell_type": "code",
      "execution_count": null,
      "metadata": {
        "id": "DzLK-P0zAd_T",
        "colab": {
          "base_uri": "https://localhost:8080/"
        },
        "outputId": "ee233a72-5f56-418b-877c-96a88075e3af"
      },
      "outputs": [
        {
          "output_type": "execute_result",
          "data": {
            "text/plain": [
              "69489"
            ]
          },
          "metadata": {},
          "execution_count": 75
        }
      ],
      "source": [
        "# YOUR CODE IS HERE \n",
        "df_1 = df.loc[(df.TotalPay > df[\"TotalPay\"].mean())]\n",
        "df_1.TotalPay.value_counts().tolist()\n",
        "len(df_1)\n",
        "\n",
        "# len(df[df.TotalPay > df.TotalPay.mean()])\n",
        "# df[(df[\"TotalPay\"] > df[\"TotalPay\"].mean())][\"Id\"].count()"
      ]
    },
    {
      "cell_type": "raw",
      "metadata": {
        "id": "CKo3f-62G01F"
      },
      "source": [
        "Desired Output:\n",
        "\n",
        "69489"
      ]
    },
    {
      "cell_type": "markdown",
      "metadata": {
        "id": "msGIAyWWAd_T"
      },
      "source": [
        "### How much does ALBERT PARDINI make money (including benefits)?"
      ]
    },
    {
      "cell_type": "code",
      "execution_count": null,
      "metadata": {
        "id": "Lp85lU0cAd_T",
        "colab": {
          "base_uri": "https://localhost:8080/",
          "height": 81
        },
        "outputId": "5187600e-ef47-4174-c369-6f30f4f8c5b2"
      },
      "outputs": [
        {
          "output_type": "execute_result",
          "data": {
            "text/plain": [
              "   TotalPayBenefits\n",
              "2         335279.91"
            ],
            "text/html": [
              "\n",
              "  <div id=\"df-39d4732a-2197-42f6-b849-51b4ba612403\">\n",
              "    <div class=\"colab-df-container\">\n",
              "      <div>\n",
              "<style scoped>\n",
              "    .dataframe tbody tr th:only-of-type {\n",
              "        vertical-align: middle;\n",
              "    }\n",
              "\n",
              "    .dataframe tbody tr th {\n",
              "        vertical-align: top;\n",
              "    }\n",
              "\n",
              "    .dataframe thead th {\n",
              "        text-align: right;\n",
              "    }\n",
              "</style>\n",
              "<table border=\"1\" class=\"dataframe\">\n",
              "  <thead>\n",
              "    <tr style=\"text-align: right;\">\n",
              "      <th></th>\n",
              "      <th>TotalPayBenefits</th>\n",
              "    </tr>\n",
              "  </thead>\n",
              "  <tbody>\n",
              "    <tr>\n",
              "      <th>2</th>\n",
              "      <td>335279.91</td>\n",
              "    </tr>\n",
              "  </tbody>\n",
              "</table>\n",
              "</div>\n",
              "      <button class=\"colab-df-convert\" onclick=\"convertToInteractive('df-39d4732a-2197-42f6-b849-51b4ba612403')\"\n",
              "              title=\"Convert this dataframe to an interactive table.\"\n",
              "              style=\"display:none;\">\n",
              "        \n",
              "  <svg xmlns=\"http://www.w3.org/2000/svg\" height=\"24px\"viewBox=\"0 0 24 24\"\n",
              "       width=\"24px\">\n",
              "    <path d=\"M0 0h24v24H0V0z\" fill=\"none\"/>\n",
              "    <path d=\"M18.56 5.44l.94 2.06.94-2.06 2.06-.94-2.06-.94-.94-2.06-.94 2.06-2.06.94zm-11 1L8.5 8.5l.94-2.06 2.06-.94-2.06-.94L8.5 2.5l-.94 2.06-2.06.94zm10 10l.94 2.06.94-2.06 2.06-.94-2.06-.94-.94-2.06-.94 2.06-2.06.94z\"/><path d=\"M17.41 7.96l-1.37-1.37c-.4-.4-.92-.59-1.43-.59-.52 0-1.04.2-1.43.59L10.3 9.45l-7.72 7.72c-.78.78-.78 2.05 0 2.83L4 21.41c.39.39.9.59 1.41.59.51 0 1.02-.2 1.41-.59l7.78-7.78 2.81-2.81c.8-.78.8-2.07 0-2.86zM5.41 20L4 18.59l7.72-7.72 1.47 1.35L5.41 20z\"/>\n",
              "  </svg>\n",
              "      </button>\n",
              "      \n",
              "  <style>\n",
              "    .colab-df-container {\n",
              "      display:flex;\n",
              "      flex-wrap:wrap;\n",
              "      gap: 12px;\n",
              "    }\n",
              "\n",
              "    .colab-df-convert {\n",
              "      background-color: #E8F0FE;\n",
              "      border: none;\n",
              "      border-radius: 50%;\n",
              "      cursor: pointer;\n",
              "      display: none;\n",
              "      fill: #1967D2;\n",
              "      height: 32px;\n",
              "      padding: 0 0 0 0;\n",
              "      width: 32px;\n",
              "    }\n",
              "\n",
              "    .colab-df-convert:hover {\n",
              "      background-color: #E2EBFA;\n",
              "      box-shadow: 0px 1px 2px rgba(60, 64, 67, 0.3), 0px 1px 3px 1px rgba(60, 64, 67, 0.15);\n",
              "      fill: #174EA6;\n",
              "    }\n",
              "\n",
              "    [theme=dark] .colab-df-convert {\n",
              "      background-color: #3B4455;\n",
              "      fill: #D2E3FC;\n",
              "    }\n",
              "\n",
              "    [theme=dark] .colab-df-convert:hover {\n",
              "      background-color: #434B5C;\n",
              "      box-shadow: 0px 1px 3px 1px rgba(0, 0, 0, 0.15);\n",
              "      filter: drop-shadow(0px 1px 2px rgba(0, 0, 0, 0.3));\n",
              "      fill: #FFFFFF;\n",
              "    }\n",
              "  </style>\n",
              "\n",
              "      <script>\n",
              "        const buttonEl =\n",
              "          document.querySelector('#df-39d4732a-2197-42f6-b849-51b4ba612403 button.colab-df-convert');\n",
              "        buttonEl.style.display =\n",
              "          google.colab.kernel.accessAllowed ? 'block' : 'none';\n",
              "\n",
              "        async function convertToInteractive(key) {\n",
              "          const element = document.querySelector('#df-39d4732a-2197-42f6-b849-51b4ba612403');\n",
              "          const dataTable =\n",
              "            await google.colab.kernel.invokeFunction('convertToInteractive',\n",
              "                                                     [key], {});\n",
              "          if (!dataTable) return;\n",
              "\n",
              "          const docLinkHtml = 'Like what you see? Visit the ' +\n",
              "            '<a target=\"_blank\" href=https://colab.research.google.com/notebooks/data_table.ipynb>data table notebook</a>'\n",
              "            + ' to learn more about interactive tables.';\n",
              "          element.innerHTML = '';\n",
              "          dataTable['output_type'] = 'display_data';\n",
              "          await google.colab.output.renderOutput(dataTable, element);\n",
              "          const docLink = document.createElement('div');\n",
              "          docLink.innerHTML = docLinkHtml;\n",
              "          element.appendChild(docLink);\n",
              "        }\n",
              "      </script>\n",
              "    </div>\n",
              "  </div>\n",
              "  "
            ]
          },
          "metadata": {},
          "execution_count": 92
        }
      ],
      "source": [
        "# YOUR CODE IS HERE \n",
        "df.loc[(df.EmployeeName == \"ALBERT PARDINI\"), [\"TotalPayBenefits\"]]   #df[df['EmployeeName'] == \"ALBERT PARDINI\"][\"TotalPayBenefits\"]\n"
      ]
    },
    {
      "cell_type": "raw",
      "metadata": {
        "id": "ijlyGQkYG01G"
      },
      "source": [
        "Desired Output:\n",
        "\n",
        "2    335279.91\n",
        "Name: TotalPayBenefits, dtype: float64"
      ]
    },
    {
      "cell_type": "markdown",
      "metadata": {
        "id": "EhGLJuApAd_U"
      },
      "source": [
        "### Who is the lowest paid person?"
      ]
    },
    {
      "cell_type": "code",
      "execution_count": 24,
      "metadata": {
        "id": "9x8QkcP2Ad_U",
        "colab": {
          "base_uri": "https://localhost:8080/"
        },
        "outputId": "c3f54096-868e-4481-e487-8b35ad1f4052"
      },
      "outputs": [
        {
          "output_type": "execute_result",
          "data": {
            "text/plain": [
              "148653    Joe Lopez\n",
              "Name: EmployeeName, dtype: object"
            ]
          },
          "metadata": {},
          "execution_count": 24
        }
      ],
      "source": [
        "# YOUR CODE IS HERE \n",
        "\n",
        "df[df[\"TotalPayBenefits\"] == df[\"TotalPayBenefits\"].min()][\"EmployeeName\"]"
      ]
    },
    {
      "cell_type": "raw",
      "metadata": {
        "id": "PY3EH9BzG01G"
      },
      "source": [
        "Desired Output:\n",
        "\n",
        "148653    Joe Lopez\n",
        "Name: EmployeeName, dtype: object"
      ]
    },
    {
      "cell_type": "markdown",
      "metadata": {
        "id": "KX1hSaoCAd_U"
      },
      "source": [
        "### What are the unique Jobs in dataset?"
      ]
    },
    {
      "cell_type": "code",
      "execution_count": null,
      "metadata": {
        "id": "O97fqU91Ad_U",
        "colab": {
          "base_uri": "https://localhost:8080/"
        },
        "outputId": "05d4bb84-7d31-4771-c797-82fa25f8d7e3"
      },
      "outputs": [
        {
          "output_type": "execute_result",
          "data": {
            "text/plain": [
              "array(['GENERAL MANAGER-METROPOLITAN TRANSIT AUTHORITY',\n",
              "       'CAPTAIN III (POLICE DEPARTMENT)',\n",
              "       'WIRE ROPE CABLE MAINTENANCE MECHANIC', ..., 'Conversion',\n",
              "       'Cashier 3', 'Not provided'], dtype=object)"
            ]
          },
          "metadata": {},
          "execution_count": 97
        }
      ],
      "source": [
        "# YOUR CODE IS HERE\n",
        "df.JobTitle.unique()\n"
      ]
    },
    {
      "cell_type": "raw",
      "metadata": {
        "id": "ySAVUnOYG01G"
      },
      "source": [
        "Desired Output:\n",
        "\n",
        "array(['GENERAL MANAGER-METROPOLITAN TRANSIT AUTHORITY',\n",
        "       'CAPTAIN III (POLICE DEPARTMENT)',\n",
        "       'WIRE ROPE CABLE MAINTENANCE MECHANIC', ..., 'Conversion',\n",
        "       'Cashier 3', 'Not provided'], dtype=object)"
      ]
    },
    {
      "cell_type": "markdown",
      "metadata": {
        "id": "CsYDrYVDAd_V"
      },
      "source": [
        "### List the top 3 least common Jobs in the dataset."
      ]
    },
    {
      "cell_type": "code",
      "source": [
        "df[\"JobTitle\"].value_counts().tail(3)    #df[\"JobTitle\"].value_counts(ascending = True)[:3]"
      ],
      "metadata": {
        "colab": {
          "base_uri": "https://localhost:8080/"
        },
        "id": "rpIWgRzjxJgd",
        "outputId": "8ebc344a-c5ee-4f68-d636-1b326534cbc3"
      },
      "execution_count": null,
      "outputs": [
        {
          "output_type": "execute_result",
          "data": {
            "text/plain": [
              "COURT COMPUTER FACILITIES COORDINATOR             1\n",
              "AUTOMOTIVE BODY AND FENDER WORKER SUPERVISOR I    1\n",
              "VICTIM & WITNESS TECHNICIAN                       1\n",
              "Name: JobTitle, dtype: int64"
            ]
          },
          "metadata": {},
          "execution_count": 91
        }
      ]
    },
    {
      "cell_type": "raw",
      "metadata": {
        "id": "GXbBlRopG01H"
      },
      "source": [
        "Desired Output:\n",
        "\n",
        "COURT COMPUTER FACILITIES COORDINATOR             1\n",
        "AUTOMOTIVE BODY AND FENDER WORKER SUPERVISOR I    1\n",
        "VICTIM & WITNESS TECHNICIAN                       1\n",
        "Name: JobTitle, dtype: int64"
      ]
    },
    {
      "cell_type": "markdown",
      "metadata": {
        "id": "6bY1SKD1Ad_V"
      },
      "source": [
        "### How many people earned more than avg in 2012?"
      ]
    },
    {
      "cell_type": "code",
      "execution_count": 25,
      "metadata": {
        "id": "W9yhfXieAd_W",
        "colab": {
          "base_uri": "https://localhost:8080/"
        },
        "outputId": "a5a53dd9-3060-4582-be79-594b51d82688"
      },
      "outputs": [
        {
          "output_type": "execute_result",
          "data": {
            "text/plain": [
              "20366"
            ]
          },
          "metadata": {},
          "execution_count": 25
        }
      ],
      "source": [
        "# YOUR CODE IS HERE #df[(df[\"TotalPayBenefits\"] > df[\"TotalPayBenefits\"].mean()) & (df[\"Year\"] == 2012)].shape[0]\n",
        "\n",
        "len(df[(df[\"TotalPayBenefits\"] > df[\"TotalPayBenefits\"].mean()) & (df[\"Year\"] == 2012)])  "
      ]
    },
    {
      "cell_type": "raw",
      "metadata": {
        "id": "0DWMdf-OG01H"
      },
      "source": [
        "Desired Output:\n",
        "\n",
        "20366"
      ]
    },
    {
      "cell_type": "markdown",
      "metadata": {
        "id": "EM6JCaT-Ad_W"
      },
      "source": [
        "### How many people have a title of Manager in their jobs?"
      ]
    },
    {
      "cell_type": "code",
      "execution_count": 26,
      "metadata": {
        "id": "RjCxcXEWAd_Y",
        "colab": {
          "base_uri": "https://localhost:8080/"
        },
        "outputId": "8b70221b-21ab-4abe-abb1-5e0057331336"
      },
      "outputs": [
        {
          "output_type": "execute_result",
          "data": {
            "text/plain": [
              "4110"
            ]
          },
          "metadata": {},
          "execution_count": 26
        }
      ],
      "source": [
        "# USE APPLY FUNCTION\n",
        "\n",
        "df[\"Id\"][df[\"JobTitle\"].apply(lambda x : \"MANAGER\" in x.upper())].count()\n",
        "\n"
      ]
    },
    {
      "cell_type": "raw",
      "metadata": {
        "id": "LJNySJVeG01H"
      },
      "source": [
        "Desired Output:\n",
        "\n",
        "4110"
      ]
    },
    {
      "cell_type": "markdown",
      "metadata": {
        "id": "UsSkiFyVAd_Y"
      },
      "source": [
        "### Take Id, EmployeeName, JobTitle, TotalPay and TotalPayBenefits columns with iloc and assign them as sal_new dataframe."
      ]
    },
    {
      "cell_type": "code",
      "execution_count": 27,
      "metadata": {
        "id": "31MPBM2UAd_Y",
        "colab": {
          "base_uri": "https://localhost:8080/",
          "height": 424
        },
        "outputId": "29eb56ea-804a-489f-bc3f-df26cc1affb2"
      },
      "outputs": [
        {
          "output_type": "execute_result",
          "data": {
            "text/plain": [
              "            Id       EmployeeName  \\\n",
              "0            1     NATHANIEL FORD   \n",
              "1            2       GARY JIMENEZ   \n",
              "2            3     ALBERT PARDINI   \n",
              "3            4  CHRISTOPHER CHONG   \n",
              "4            5    PATRICK GARDNER   \n",
              "...        ...                ...   \n",
              "148649  148650      Roy I Tillery   \n",
              "148650  148651       Not provided   \n",
              "148651  148652       Not provided   \n",
              "148652  148653       Not provided   \n",
              "148653  148654          Joe Lopez   \n",
              "\n",
              "                                              JobTitle   TotalPay  \\\n",
              "0       GENERAL MANAGER-METROPOLITAN TRANSIT AUTHORITY  567595.43   \n",
              "1                      CAPTAIN III (POLICE DEPARTMENT)  538909.28   \n",
              "2                      CAPTAIN III (POLICE DEPARTMENT)  335279.91   \n",
              "3                 WIRE ROPE CABLE MAINTENANCE MECHANIC  332343.61   \n",
              "4         DEPUTY CHIEF OF DEPARTMENT,(FIRE DEPARTMENT)  326373.19   \n",
              "...                                                ...        ...   \n",
              "148649                                       Custodian       0.00   \n",
              "148650                                    Not provided       0.00   \n",
              "148651                                    Not provided       0.00   \n",
              "148652                                    Not provided       0.00   \n",
              "148653                      Counselor, Log Cabin Ranch    -618.13   \n",
              "\n",
              "        TotalPayBenefits  \n",
              "0              567595.43  \n",
              "1              538909.28  \n",
              "2              335279.91  \n",
              "3              332343.61  \n",
              "4              326373.19  \n",
              "...                  ...  \n",
              "148649              0.00  \n",
              "148650              0.00  \n",
              "148651              0.00  \n",
              "148652              0.00  \n",
              "148653           -618.13  \n",
              "\n",
              "[148654 rows x 5 columns]"
            ],
            "text/html": [
              "\n",
              "  <div id=\"df-d390f9d8-693b-41e3-bd14-c40280556e8b\">\n",
              "    <div class=\"colab-df-container\">\n",
              "      <div>\n",
              "<style scoped>\n",
              "    .dataframe tbody tr th:only-of-type {\n",
              "        vertical-align: middle;\n",
              "    }\n",
              "\n",
              "    .dataframe tbody tr th {\n",
              "        vertical-align: top;\n",
              "    }\n",
              "\n",
              "    .dataframe thead th {\n",
              "        text-align: right;\n",
              "    }\n",
              "</style>\n",
              "<table border=\"1\" class=\"dataframe\">\n",
              "  <thead>\n",
              "    <tr style=\"text-align: right;\">\n",
              "      <th></th>\n",
              "      <th>Id</th>\n",
              "      <th>EmployeeName</th>\n",
              "      <th>JobTitle</th>\n",
              "      <th>TotalPay</th>\n",
              "      <th>TotalPayBenefits</th>\n",
              "    </tr>\n",
              "  </thead>\n",
              "  <tbody>\n",
              "    <tr>\n",
              "      <th>0</th>\n",
              "      <td>1</td>\n",
              "      <td>NATHANIEL FORD</td>\n",
              "      <td>GENERAL MANAGER-METROPOLITAN TRANSIT AUTHORITY</td>\n",
              "      <td>567595.43</td>\n",
              "      <td>567595.43</td>\n",
              "    </tr>\n",
              "    <tr>\n",
              "      <th>1</th>\n",
              "      <td>2</td>\n",
              "      <td>GARY JIMENEZ</td>\n",
              "      <td>CAPTAIN III (POLICE DEPARTMENT)</td>\n",
              "      <td>538909.28</td>\n",
              "      <td>538909.28</td>\n",
              "    </tr>\n",
              "    <tr>\n",
              "      <th>2</th>\n",
              "      <td>3</td>\n",
              "      <td>ALBERT PARDINI</td>\n",
              "      <td>CAPTAIN III (POLICE DEPARTMENT)</td>\n",
              "      <td>335279.91</td>\n",
              "      <td>335279.91</td>\n",
              "    </tr>\n",
              "    <tr>\n",
              "      <th>3</th>\n",
              "      <td>4</td>\n",
              "      <td>CHRISTOPHER CHONG</td>\n",
              "      <td>WIRE ROPE CABLE MAINTENANCE MECHANIC</td>\n",
              "      <td>332343.61</td>\n",
              "      <td>332343.61</td>\n",
              "    </tr>\n",
              "    <tr>\n",
              "      <th>4</th>\n",
              "      <td>5</td>\n",
              "      <td>PATRICK GARDNER</td>\n",
              "      <td>DEPUTY CHIEF OF DEPARTMENT,(FIRE DEPARTMENT)</td>\n",
              "      <td>326373.19</td>\n",
              "      <td>326373.19</td>\n",
              "    </tr>\n",
              "    <tr>\n",
              "      <th>...</th>\n",
              "      <td>...</td>\n",
              "      <td>...</td>\n",
              "      <td>...</td>\n",
              "      <td>...</td>\n",
              "      <td>...</td>\n",
              "    </tr>\n",
              "    <tr>\n",
              "      <th>148649</th>\n",
              "      <td>148650</td>\n",
              "      <td>Roy I Tillery</td>\n",
              "      <td>Custodian</td>\n",
              "      <td>0.00</td>\n",
              "      <td>0.00</td>\n",
              "    </tr>\n",
              "    <tr>\n",
              "      <th>148650</th>\n",
              "      <td>148651</td>\n",
              "      <td>Not provided</td>\n",
              "      <td>Not provided</td>\n",
              "      <td>0.00</td>\n",
              "      <td>0.00</td>\n",
              "    </tr>\n",
              "    <tr>\n",
              "      <th>148651</th>\n",
              "      <td>148652</td>\n",
              "      <td>Not provided</td>\n",
              "      <td>Not provided</td>\n",
              "      <td>0.00</td>\n",
              "      <td>0.00</td>\n",
              "    </tr>\n",
              "    <tr>\n",
              "      <th>148652</th>\n",
              "      <td>148653</td>\n",
              "      <td>Not provided</td>\n",
              "      <td>Not provided</td>\n",
              "      <td>0.00</td>\n",
              "      <td>0.00</td>\n",
              "    </tr>\n",
              "    <tr>\n",
              "      <th>148653</th>\n",
              "      <td>148654</td>\n",
              "      <td>Joe Lopez</td>\n",
              "      <td>Counselor, Log Cabin Ranch</td>\n",
              "      <td>-618.13</td>\n",
              "      <td>-618.13</td>\n",
              "    </tr>\n",
              "  </tbody>\n",
              "</table>\n",
              "<p>148654 rows × 5 columns</p>\n",
              "</div>\n",
              "      <button class=\"colab-df-convert\" onclick=\"convertToInteractive('df-d390f9d8-693b-41e3-bd14-c40280556e8b')\"\n",
              "              title=\"Convert this dataframe to an interactive table.\"\n",
              "              style=\"display:none;\">\n",
              "        \n",
              "  <svg xmlns=\"http://www.w3.org/2000/svg\" height=\"24px\"viewBox=\"0 0 24 24\"\n",
              "       width=\"24px\">\n",
              "    <path d=\"M0 0h24v24H0V0z\" fill=\"none\"/>\n",
              "    <path d=\"M18.56 5.44l.94 2.06.94-2.06 2.06-.94-2.06-.94-.94-2.06-.94 2.06-2.06.94zm-11 1L8.5 8.5l.94-2.06 2.06-.94-2.06-.94L8.5 2.5l-.94 2.06-2.06.94zm10 10l.94 2.06.94-2.06 2.06-.94-2.06-.94-.94-2.06-.94 2.06-2.06.94z\"/><path d=\"M17.41 7.96l-1.37-1.37c-.4-.4-.92-.59-1.43-.59-.52 0-1.04.2-1.43.59L10.3 9.45l-7.72 7.72c-.78.78-.78 2.05 0 2.83L4 21.41c.39.39.9.59 1.41.59.51 0 1.02-.2 1.41-.59l7.78-7.78 2.81-2.81c.8-.78.8-2.07 0-2.86zM5.41 20L4 18.59l7.72-7.72 1.47 1.35L5.41 20z\"/>\n",
              "  </svg>\n",
              "      </button>\n",
              "      \n",
              "  <style>\n",
              "    .colab-df-container {\n",
              "      display:flex;\n",
              "      flex-wrap:wrap;\n",
              "      gap: 12px;\n",
              "    }\n",
              "\n",
              "    .colab-df-convert {\n",
              "      background-color: #E8F0FE;\n",
              "      border: none;\n",
              "      border-radius: 50%;\n",
              "      cursor: pointer;\n",
              "      display: none;\n",
              "      fill: #1967D2;\n",
              "      height: 32px;\n",
              "      padding: 0 0 0 0;\n",
              "      width: 32px;\n",
              "    }\n",
              "\n",
              "    .colab-df-convert:hover {\n",
              "      background-color: #E2EBFA;\n",
              "      box-shadow: 0px 1px 2px rgba(60, 64, 67, 0.3), 0px 1px 3px 1px rgba(60, 64, 67, 0.15);\n",
              "      fill: #174EA6;\n",
              "    }\n",
              "\n",
              "    [theme=dark] .colab-df-convert {\n",
              "      background-color: #3B4455;\n",
              "      fill: #D2E3FC;\n",
              "    }\n",
              "\n",
              "    [theme=dark] .colab-df-convert:hover {\n",
              "      background-color: #434B5C;\n",
              "      box-shadow: 0px 1px 3px 1px rgba(0, 0, 0, 0.15);\n",
              "      filter: drop-shadow(0px 1px 2px rgba(0, 0, 0, 0.3));\n",
              "      fill: #FFFFFF;\n",
              "    }\n",
              "  </style>\n",
              "\n",
              "      <script>\n",
              "        const buttonEl =\n",
              "          document.querySelector('#df-d390f9d8-693b-41e3-bd14-c40280556e8b button.colab-df-convert');\n",
              "        buttonEl.style.display =\n",
              "          google.colab.kernel.accessAllowed ? 'block' : 'none';\n",
              "\n",
              "        async function convertToInteractive(key) {\n",
              "          const element = document.querySelector('#df-d390f9d8-693b-41e3-bd14-c40280556e8b');\n",
              "          const dataTable =\n",
              "            await google.colab.kernel.invokeFunction('convertToInteractive',\n",
              "                                                     [key], {});\n",
              "          if (!dataTable) return;\n",
              "\n",
              "          const docLinkHtml = 'Like what you see? Visit the ' +\n",
              "            '<a target=\"_blank\" href=https://colab.research.google.com/notebooks/data_table.ipynb>data table notebook</a>'\n",
              "            + ' to learn more about interactive tables.';\n",
              "          element.innerHTML = '';\n",
              "          dataTable['output_type'] = 'display_data';\n",
              "          await google.colab.output.renderOutput(dataTable, element);\n",
              "          const docLink = document.createElement('div');\n",
              "          docLink.innerHTML = docLinkHtml;\n",
              "          element.appendChild(docLink);\n",
              "        }\n",
              "      </script>\n",
              "    </div>\n",
              "  </div>\n",
              "  "
            ]
          },
          "metadata": {},
          "execution_count": 27
        }
      ],
      "source": [
        "# YOUR CODE IS HERE \n",
        "sal_new = df.iloc[:, [0,1,2,7,8]]\n",
        "sal_new\n"
      ]
    },
    {
      "cell_type": "markdown",
      "metadata": {
        "id": "l3EDRH0rG01I"
      },
      "source": [
        "Desired Output:\n",
        "\n",
        "![image.png](https://i.ibb.co/ZgFCbPm/assignment1e.png)"
      ]
    },
    {
      "cell_type": "markdown",
      "metadata": {
        "id": "IDfaMS0OAd_Z"
      },
      "source": [
        "### Take the columns betweeen EmployeeName and TotalPayBenefits with loc and assign them as sal_new df."
      ]
    },
    {
      "cell_type": "code",
      "execution_count": 31,
      "metadata": {
        "id": "iXoiBJ8tAd_Z",
        "colab": {
          "base_uri": "https://localhost:8080/",
          "height": 424
        },
        "outputId": "68c965ac-f743-47a3-df94-d2a018505cae"
      },
      "outputs": [
        {
          "output_type": "execute_result",
          "data": {
            "text/plain": [
              "             EmployeeName                                        JobTitle  \\\n",
              "0          NATHANIEL FORD  GENERAL MANAGER-METROPOLITAN TRANSIT AUTHORITY   \n",
              "1            GARY JIMENEZ                 CAPTAIN III (POLICE DEPARTMENT)   \n",
              "2          ALBERT PARDINI                 CAPTAIN III (POLICE DEPARTMENT)   \n",
              "3       CHRISTOPHER CHONG            WIRE ROPE CABLE MAINTENANCE MECHANIC   \n",
              "4         PATRICK GARDNER    DEPUTY CHIEF OF DEPARTMENT,(FIRE DEPARTMENT)   \n",
              "...                   ...                                             ...   \n",
              "148649      Roy I Tillery                                       Custodian   \n",
              "148650       Not provided                                    Not provided   \n",
              "148651       Not provided                                    Not provided   \n",
              "148652       Not provided                                    Not provided   \n",
              "148653          Joe Lopez                      Counselor, Log Cabin Ranch   \n",
              "\n",
              "         TotalPay  TotalPayBenefits  \n",
              "0       567595.43         567595.43  \n",
              "1       538909.28         538909.28  \n",
              "2       335279.91         335279.91  \n",
              "3       332343.61         332343.61  \n",
              "4       326373.19         326373.19  \n",
              "...           ...               ...  \n",
              "148649       0.00              0.00  \n",
              "148650       0.00              0.00  \n",
              "148651       0.00              0.00  \n",
              "148652       0.00              0.00  \n",
              "148653    -618.13           -618.13  \n",
              "\n",
              "[148654 rows x 4 columns]"
            ],
            "text/html": [
              "\n",
              "  <div id=\"df-5ea39174-f5d1-410a-802c-cda9025a4e1a\">\n",
              "    <div class=\"colab-df-container\">\n",
              "      <div>\n",
              "<style scoped>\n",
              "    .dataframe tbody tr th:only-of-type {\n",
              "        vertical-align: middle;\n",
              "    }\n",
              "\n",
              "    .dataframe tbody tr th {\n",
              "        vertical-align: top;\n",
              "    }\n",
              "\n",
              "    .dataframe thead th {\n",
              "        text-align: right;\n",
              "    }\n",
              "</style>\n",
              "<table border=\"1\" class=\"dataframe\">\n",
              "  <thead>\n",
              "    <tr style=\"text-align: right;\">\n",
              "      <th></th>\n",
              "      <th>EmployeeName</th>\n",
              "      <th>JobTitle</th>\n",
              "      <th>TotalPay</th>\n",
              "      <th>TotalPayBenefits</th>\n",
              "    </tr>\n",
              "  </thead>\n",
              "  <tbody>\n",
              "    <tr>\n",
              "      <th>0</th>\n",
              "      <td>NATHANIEL FORD</td>\n",
              "      <td>GENERAL MANAGER-METROPOLITAN TRANSIT AUTHORITY</td>\n",
              "      <td>567595.43</td>\n",
              "      <td>567595.43</td>\n",
              "    </tr>\n",
              "    <tr>\n",
              "      <th>1</th>\n",
              "      <td>GARY JIMENEZ</td>\n",
              "      <td>CAPTAIN III (POLICE DEPARTMENT)</td>\n",
              "      <td>538909.28</td>\n",
              "      <td>538909.28</td>\n",
              "    </tr>\n",
              "    <tr>\n",
              "      <th>2</th>\n",
              "      <td>ALBERT PARDINI</td>\n",
              "      <td>CAPTAIN III (POLICE DEPARTMENT)</td>\n",
              "      <td>335279.91</td>\n",
              "      <td>335279.91</td>\n",
              "    </tr>\n",
              "    <tr>\n",
              "      <th>3</th>\n",
              "      <td>CHRISTOPHER CHONG</td>\n",
              "      <td>WIRE ROPE CABLE MAINTENANCE MECHANIC</td>\n",
              "      <td>332343.61</td>\n",
              "      <td>332343.61</td>\n",
              "    </tr>\n",
              "    <tr>\n",
              "      <th>4</th>\n",
              "      <td>PATRICK GARDNER</td>\n",
              "      <td>DEPUTY CHIEF OF DEPARTMENT,(FIRE DEPARTMENT)</td>\n",
              "      <td>326373.19</td>\n",
              "      <td>326373.19</td>\n",
              "    </tr>\n",
              "    <tr>\n",
              "      <th>...</th>\n",
              "      <td>...</td>\n",
              "      <td>...</td>\n",
              "      <td>...</td>\n",
              "      <td>...</td>\n",
              "    </tr>\n",
              "    <tr>\n",
              "      <th>148649</th>\n",
              "      <td>Roy I Tillery</td>\n",
              "      <td>Custodian</td>\n",
              "      <td>0.00</td>\n",
              "      <td>0.00</td>\n",
              "    </tr>\n",
              "    <tr>\n",
              "      <th>148650</th>\n",
              "      <td>Not provided</td>\n",
              "      <td>Not provided</td>\n",
              "      <td>0.00</td>\n",
              "      <td>0.00</td>\n",
              "    </tr>\n",
              "    <tr>\n",
              "      <th>148651</th>\n",
              "      <td>Not provided</td>\n",
              "      <td>Not provided</td>\n",
              "      <td>0.00</td>\n",
              "      <td>0.00</td>\n",
              "    </tr>\n",
              "    <tr>\n",
              "      <th>148652</th>\n",
              "      <td>Not provided</td>\n",
              "      <td>Not provided</td>\n",
              "      <td>0.00</td>\n",
              "      <td>0.00</td>\n",
              "    </tr>\n",
              "    <tr>\n",
              "      <th>148653</th>\n",
              "      <td>Joe Lopez</td>\n",
              "      <td>Counselor, Log Cabin Ranch</td>\n",
              "      <td>-618.13</td>\n",
              "      <td>-618.13</td>\n",
              "    </tr>\n",
              "  </tbody>\n",
              "</table>\n",
              "<p>148654 rows × 4 columns</p>\n",
              "</div>\n",
              "      <button class=\"colab-df-convert\" onclick=\"convertToInteractive('df-5ea39174-f5d1-410a-802c-cda9025a4e1a')\"\n",
              "              title=\"Convert this dataframe to an interactive table.\"\n",
              "              style=\"display:none;\">\n",
              "        \n",
              "  <svg xmlns=\"http://www.w3.org/2000/svg\" height=\"24px\"viewBox=\"0 0 24 24\"\n",
              "       width=\"24px\">\n",
              "    <path d=\"M0 0h24v24H0V0z\" fill=\"none\"/>\n",
              "    <path d=\"M18.56 5.44l.94 2.06.94-2.06 2.06-.94-2.06-.94-.94-2.06-.94 2.06-2.06.94zm-11 1L8.5 8.5l.94-2.06 2.06-.94-2.06-.94L8.5 2.5l-.94 2.06-2.06.94zm10 10l.94 2.06.94-2.06 2.06-.94-2.06-.94-.94-2.06-.94 2.06-2.06.94z\"/><path d=\"M17.41 7.96l-1.37-1.37c-.4-.4-.92-.59-1.43-.59-.52 0-1.04.2-1.43.59L10.3 9.45l-7.72 7.72c-.78.78-.78 2.05 0 2.83L4 21.41c.39.39.9.59 1.41.59.51 0 1.02-.2 1.41-.59l7.78-7.78 2.81-2.81c.8-.78.8-2.07 0-2.86zM5.41 20L4 18.59l7.72-7.72 1.47 1.35L5.41 20z\"/>\n",
              "  </svg>\n",
              "      </button>\n",
              "      \n",
              "  <style>\n",
              "    .colab-df-container {\n",
              "      display:flex;\n",
              "      flex-wrap:wrap;\n",
              "      gap: 12px;\n",
              "    }\n",
              "\n",
              "    .colab-df-convert {\n",
              "      background-color: #E8F0FE;\n",
              "      border: none;\n",
              "      border-radius: 50%;\n",
              "      cursor: pointer;\n",
              "      display: none;\n",
              "      fill: #1967D2;\n",
              "      height: 32px;\n",
              "      padding: 0 0 0 0;\n",
              "      width: 32px;\n",
              "    }\n",
              "\n",
              "    .colab-df-convert:hover {\n",
              "      background-color: #E2EBFA;\n",
              "      box-shadow: 0px 1px 2px rgba(60, 64, 67, 0.3), 0px 1px 3px 1px rgba(60, 64, 67, 0.15);\n",
              "      fill: #174EA6;\n",
              "    }\n",
              "\n",
              "    [theme=dark] .colab-df-convert {\n",
              "      background-color: #3B4455;\n",
              "      fill: #D2E3FC;\n",
              "    }\n",
              "\n",
              "    [theme=dark] .colab-df-convert:hover {\n",
              "      background-color: #434B5C;\n",
              "      box-shadow: 0px 1px 3px 1px rgba(0, 0, 0, 0.15);\n",
              "      filter: drop-shadow(0px 1px 2px rgba(0, 0, 0, 0.3));\n",
              "      fill: #FFFFFF;\n",
              "    }\n",
              "  </style>\n",
              "\n",
              "      <script>\n",
              "        const buttonEl =\n",
              "          document.querySelector('#df-5ea39174-f5d1-410a-802c-cda9025a4e1a button.colab-df-convert');\n",
              "        buttonEl.style.display =\n",
              "          google.colab.kernel.accessAllowed ? 'block' : 'none';\n",
              "\n",
              "        async function convertToInteractive(key) {\n",
              "          const element = document.querySelector('#df-5ea39174-f5d1-410a-802c-cda9025a4e1a');\n",
              "          const dataTable =\n",
              "            await google.colab.kernel.invokeFunction('convertToInteractive',\n",
              "                                                     [key], {});\n",
              "          if (!dataTable) return;\n",
              "\n",
              "          const docLinkHtml = 'Like what you see? Visit the ' +\n",
              "            '<a target=\"_blank\" href=https://colab.research.google.com/notebooks/data_table.ipynb>data table notebook</a>'\n",
              "            + ' to learn more about interactive tables.';\n",
              "          element.innerHTML = '';\n",
              "          dataTable['output_type'] = 'display_data';\n",
              "          await google.colab.output.renderOutput(dataTable, element);\n",
              "          const docLink = document.createElement('div');\n",
              "          docLink.innerHTML = docLinkHtml;\n",
              "          element.appendChild(docLink);\n",
              "        }\n",
              "      </script>\n",
              "    </div>\n",
              "  </div>\n",
              "  "
            ]
          },
          "metadata": {},
          "execution_count": 31
        }
      ],
      "source": [
        "# YOUR CODE IS HERE \n",
        "sal_new =(df.iloc[ :, [0, 1, 2, 7, 8]]).loc[:, \"EmployeeName\":\"TotalPayBenefits\"]\n",
        "sal_new\n"
      ]
    },
    {
      "cell_type": "markdown",
      "metadata": {
        "id": "RqIjwsJiG01I"
      },
      "source": [
        "Desired Output:\n",
        "\n",
        "![image.png](https://i.ibb.co/s2CYS7H/assignment1f.png)"
      ]
    },
    {
      "cell_type": "markdown",
      "metadata": {
        "id": "GLNh6jmxAd_a"
      },
      "source": [
        "### Print out the names of the employees who earn more than min but less than avg."
      ]
    },
    {
      "cell_type": "code",
      "execution_count": 33,
      "metadata": {
        "id": "2lk1ZwS9Ad_a",
        "colab": {
          "base_uri": "https://localhost:8080/",
          "height": 424
        },
        "outputId": "f6ea08ab-75bf-40e0-984a-d18f83ea260f"
      },
      "outputs": [
        {
          "output_type": "execute_result",
          "data": {
            "text/plain": [
              "          EmployeeName  TotalPayBenefits\n",
              "10806          KWE LEE          93691.15\n",
              "10807   MIGUEL CARO JR          93682.74\n",
              "10808    JOANNE MORRIS          93680.53\n",
              "10809    LAYLA WELBORN          93676.88\n",
              "10810          LE BANH          93675.39\n",
              "...                ...               ...\n",
              "148648     Leon Walker              0.00\n",
              "148649   Roy I Tillery              0.00\n",
              "148650    Not provided              0.00\n",
              "148651    Not provided              0.00\n",
              "148652    Not provided              0.00\n",
              "\n",
              "[75649 rows x 2 columns]"
            ],
            "text/html": [
              "\n",
              "  <div id=\"df-3df4043b-257a-425b-9e92-cc351d0ed6b8\">\n",
              "    <div class=\"colab-df-container\">\n",
              "      <div>\n",
              "<style scoped>\n",
              "    .dataframe tbody tr th:only-of-type {\n",
              "        vertical-align: middle;\n",
              "    }\n",
              "\n",
              "    .dataframe tbody tr th {\n",
              "        vertical-align: top;\n",
              "    }\n",
              "\n",
              "    .dataframe thead th {\n",
              "        text-align: right;\n",
              "    }\n",
              "</style>\n",
              "<table border=\"1\" class=\"dataframe\">\n",
              "  <thead>\n",
              "    <tr style=\"text-align: right;\">\n",
              "      <th></th>\n",
              "      <th>EmployeeName</th>\n",
              "      <th>TotalPayBenefits</th>\n",
              "    </tr>\n",
              "  </thead>\n",
              "  <tbody>\n",
              "    <tr>\n",
              "      <th>10806</th>\n",
              "      <td>KWE LEE</td>\n",
              "      <td>93691.15</td>\n",
              "    </tr>\n",
              "    <tr>\n",
              "      <th>10807</th>\n",
              "      <td>MIGUEL CARO JR</td>\n",
              "      <td>93682.74</td>\n",
              "    </tr>\n",
              "    <tr>\n",
              "      <th>10808</th>\n",
              "      <td>JOANNE MORRIS</td>\n",
              "      <td>93680.53</td>\n",
              "    </tr>\n",
              "    <tr>\n",
              "      <th>10809</th>\n",
              "      <td>LAYLA WELBORN</td>\n",
              "      <td>93676.88</td>\n",
              "    </tr>\n",
              "    <tr>\n",
              "      <th>10810</th>\n",
              "      <td>LE BANH</td>\n",
              "      <td>93675.39</td>\n",
              "    </tr>\n",
              "    <tr>\n",
              "      <th>...</th>\n",
              "      <td>...</td>\n",
              "      <td>...</td>\n",
              "    </tr>\n",
              "    <tr>\n",
              "      <th>148648</th>\n",
              "      <td>Leon Walker</td>\n",
              "      <td>0.00</td>\n",
              "    </tr>\n",
              "    <tr>\n",
              "      <th>148649</th>\n",
              "      <td>Roy I Tillery</td>\n",
              "      <td>0.00</td>\n",
              "    </tr>\n",
              "    <tr>\n",
              "      <th>148650</th>\n",
              "      <td>Not provided</td>\n",
              "      <td>0.00</td>\n",
              "    </tr>\n",
              "    <tr>\n",
              "      <th>148651</th>\n",
              "      <td>Not provided</td>\n",
              "      <td>0.00</td>\n",
              "    </tr>\n",
              "    <tr>\n",
              "      <th>148652</th>\n",
              "      <td>Not provided</td>\n",
              "      <td>0.00</td>\n",
              "    </tr>\n",
              "  </tbody>\n",
              "</table>\n",
              "<p>75649 rows × 2 columns</p>\n",
              "</div>\n",
              "      <button class=\"colab-df-convert\" onclick=\"convertToInteractive('df-3df4043b-257a-425b-9e92-cc351d0ed6b8')\"\n",
              "              title=\"Convert this dataframe to an interactive table.\"\n",
              "              style=\"display:none;\">\n",
              "        \n",
              "  <svg xmlns=\"http://www.w3.org/2000/svg\" height=\"24px\"viewBox=\"0 0 24 24\"\n",
              "       width=\"24px\">\n",
              "    <path d=\"M0 0h24v24H0V0z\" fill=\"none\"/>\n",
              "    <path d=\"M18.56 5.44l.94 2.06.94-2.06 2.06-.94-2.06-.94-.94-2.06-.94 2.06-2.06.94zm-11 1L8.5 8.5l.94-2.06 2.06-.94-2.06-.94L8.5 2.5l-.94 2.06-2.06.94zm10 10l.94 2.06.94-2.06 2.06-.94-2.06-.94-.94-2.06-.94 2.06-2.06.94z\"/><path d=\"M17.41 7.96l-1.37-1.37c-.4-.4-.92-.59-1.43-.59-.52 0-1.04.2-1.43.59L10.3 9.45l-7.72 7.72c-.78.78-.78 2.05 0 2.83L4 21.41c.39.39.9.59 1.41.59.51 0 1.02-.2 1.41-.59l7.78-7.78 2.81-2.81c.8-.78.8-2.07 0-2.86zM5.41 20L4 18.59l7.72-7.72 1.47 1.35L5.41 20z\"/>\n",
              "  </svg>\n",
              "      </button>\n",
              "      \n",
              "  <style>\n",
              "    .colab-df-container {\n",
              "      display:flex;\n",
              "      flex-wrap:wrap;\n",
              "      gap: 12px;\n",
              "    }\n",
              "\n",
              "    .colab-df-convert {\n",
              "      background-color: #E8F0FE;\n",
              "      border: none;\n",
              "      border-radius: 50%;\n",
              "      cursor: pointer;\n",
              "      display: none;\n",
              "      fill: #1967D2;\n",
              "      height: 32px;\n",
              "      padding: 0 0 0 0;\n",
              "      width: 32px;\n",
              "    }\n",
              "\n",
              "    .colab-df-convert:hover {\n",
              "      background-color: #E2EBFA;\n",
              "      box-shadow: 0px 1px 2px rgba(60, 64, 67, 0.3), 0px 1px 3px 1px rgba(60, 64, 67, 0.15);\n",
              "      fill: #174EA6;\n",
              "    }\n",
              "\n",
              "    [theme=dark] .colab-df-convert {\n",
              "      background-color: #3B4455;\n",
              "      fill: #D2E3FC;\n",
              "    }\n",
              "\n",
              "    [theme=dark] .colab-df-convert:hover {\n",
              "      background-color: #434B5C;\n",
              "      box-shadow: 0px 1px 3px 1px rgba(0, 0, 0, 0.15);\n",
              "      filter: drop-shadow(0px 1px 2px rgba(0, 0, 0, 0.3));\n",
              "      fill: #FFFFFF;\n",
              "    }\n",
              "  </style>\n",
              "\n",
              "      <script>\n",
              "        const buttonEl =\n",
              "          document.querySelector('#df-3df4043b-257a-425b-9e92-cc351d0ed6b8 button.colab-df-convert');\n",
              "        buttonEl.style.display =\n",
              "          google.colab.kernel.accessAllowed ? 'block' : 'none';\n",
              "\n",
              "        async function convertToInteractive(key) {\n",
              "          const element = document.querySelector('#df-3df4043b-257a-425b-9e92-cc351d0ed6b8');\n",
              "          const dataTable =\n",
              "            await google.colab.kernel.invokeFunction('convertToInteractive',\n",
              "                                                     [key], {});\n",
              "          if (!dataTable) return;\n",
              "\n",
              "          const docLinkHtml = 'Like what you see? Visit the ' +\n",
              "            '<a target=\"_blank\" href=https://colab.research.google.com/notebooks/data_table.ipynb>data table notebook</a>'\n",
              "            + ' to learn more about interactive tables.';\n",
              "          element.innerHTML = '';\n",
              "          dataTable['output_type'] = 'display_data';\n",
              "          await google.colab.output.renderOutput(dataTable, element);\n",
              "          const docLink = document.createElement('div');\n",
              "          docLink.innerHTML = docLinkHtml;\n",
              "          element.appendChild(docLink);\n",
              "        }\n",
              "      </script>\n",
              "    </div>\n",
              "  </div>\n",
              "  "
            ]
          },
          "metadata": {},
          "execution_count": 33
        }
      ],
      "source": [
        "# YOUR CODE IS HERE \n",
        "\n",
        "df[(df[\"TotalPayBenefits\"] > df[\"TotalPayBenefits\"].min()) & (df[\"TotalPayBenefits\"] < df[\"TotalPayBenefits\"].mean())][[\"EmployeeName\",\"TotalPayBenefits\"]]"
      ]
    },
    {
      "cell_type": "markdown",
      "metadata": {
        "id": "PnsdZjnnAd_a"
      },
      "source": [
        "Desired Output:\n",
        "\n",
        "![image.png](https://i.ibb.co/mtNB2TX/assignment1g.png)"
      ]
    },
    {
      "cell_type": "markdown",
      "metadata": {
        "id": "3I0T-7qOG01J"
      },
      "source": [
        "<p style=\"text-align: center;\"><img src=\"https://docs.google.com/uc?id=1lY0Uj5R04yMY3-ZppPWxqCr5pvBLYPnV\" class=\"img-fluid\" \n",
        "alt=\"CLRSWY\"></p>\n",
        "\n",
        "## <p style=\"background-color:#FDFEFE; font-family:newtimeroman; color:#9d4f8c; font-size:100%; text-align:center; border-radius:10px 10px;\">WAY TO REINVENT YOURSELF</p>\n",
        "\n",
        "________"
      ]
    }
  ],
  "metadata": {
    "anaconda-cloud": {},
    "colab": {
      "name": "F4176-Furkan_Assignment_01.ipynb",
      "provenance": [],
      "collapsed_sections": []
    },
    "kernelspec": {
      "display_name": "Python 3",
      "language": "python",
      "name": "python3"
    },
    "language_info": {
      "codemirror_mode": {
        "name": "ipython",
        "version": 3
      },
      "file_extension": ".py",
      "mimetype": "text/x-python",
      "name": "python",
      "nbconvert_exporter": "python",
      "pygments_lexer": "ipython3",
      "version": "3.8.13"
    },
    "toc": {
      "base_numbering": 1,
      "nav_menu": {},
      "number_sections": false,
      "sideBar": true,
      "skip_h1_title": false,
      "title_cell": "Table of Contents",
      "title_sidebar": "Contents",
      "toc_cell": false,
      "toc_position": {},
      "toc_section_display": true,
      "toc_window_display": false
    }
  },
  "nbformat": 4,
  "nbformat_minor": 0
}