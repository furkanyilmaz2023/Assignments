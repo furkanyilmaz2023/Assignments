{
  "nbformat": 4,
  "nbformat_minor": 0,
  "metadata": {
    "colab": {
      "provenance": [],
      "collapsed_sections": []
    },
    "kernelspec": {
      "name": "python3",
      "display_name": "Python 3"
    },
    "language_info": {
      "name": "python"
    }
  },
  "cells": [
    {
      "cell_type": "code",
      "source": [
        "import numpy as np\n",
        "from scipy import stats\n",
        "import matplotlib.pyplot as plt\n",
        "import seaborn as sns"
      ],
      "metadata": {
        "id": "kirfXMf4yMjl"
      },
      "execution_count": null,
      "outputs": []
    },
    {
      "cell_type": "markdown",
      "source": [
        "EXERCISE 1. Suppose scores on exams in statistics are normally distributed with an unknown population mean and a population standard deviation of 3 points. \n",
        "A random sample of 36 scores is taken and gives a sample mean (sample  mean score) of 68. Find a confidence interval estimate for the population mean exam score \n",
        "(the mean score on all exams).\n",
        "\n",
        "Find a 90% confidence interval for the true (population) mean of statistics exam scores."
      ],
      "metadata": {
        "id": "ASaNQ1AFzCdt"
      }
    },
    {
      "cell_type": "code",
      "source": [
        "n = 36\n",
        "x_bar = 68\n",
        "sigma = 3"
      ],
      "metadata": {
        "id": "xIOakXgyyWDl"
      },
      "execution_count": null,
      "outputs": []
    },
    {
      "cell_type": "code",
      "source": [
        "sem = (sigma) / (np.sqrt(n))\n",
        "sem"
      ],
      "metadata": {
        "colab": {
          "base_uri": "https://localhost:8080/"
        },
        "id": "fNJFFKMSz4Ld",
        "outputId": "0eae2291-fc8a-4c94-8b04-190ad67690a9"
      },
      "execution_count": null,
      "outputs": [
        {
          "output_type": "execute_result",
          "data": {
            "text/plain": [
              "0.5"
            ]
          },
          "metadata": {},
          "execution_count": 9
        }
      ]
    },
    {
      "cell_type": "code",
      "source": [
        "stats.norm.interval(0.90, loc=x_bar, scale=sem)"
      ],
      "metadata": {
        "colab": {
          "base_uri": "https://localhost:8080/"
        },
        "id": "h3fWwWCw1H_X",
        "outputId": "109ccfa4-aa41-4561-f662-2380f0067c46"
      },
      "execution_count": null,
      "outputs": [
        {
          "output_type": "execute_result",
          "data": {
            "text/plain": [
              "(67.17757318652427, 68.82242681347573)"
            ]
          },
          "metadata": {},
          "execution_count": 14
        }
      ]
    },
    {
      "cell_type": "markdown",
      "source": [
        "EXERCISE 2. What is the normal body temperature for healthy humans? A random sample of 130 healthy human body temperatures provided by Allen Shoemaker7 yielded 98.25 degrees and standard deviation 0.73 degrees. \n",
        "\n",
        "Give a 99% confidence interval for the average body temperature of healthy people."
      ],
      "metadata": {
        "id": "SJjWrC2m2bq0"
      }
    },
    {
      "cell_type": "code",
      "source": [
        "n_1 = 130\n",
        "xbar_1 = 98.25\n",
        "sigma_1 = 0.73"
      ],
      "metadata": {
        "id": "p3cxznWC1uoG"
      },
      "execution_count": null,
      "outputs": []
    },
    {
      "cell_type": "code",
      "source": [
        "sem_1 = (sigma_1) / (np.sqrt(n_1))\n",
        "sem_1"
      ],
      "metadata": {
        "colab": {
          "base_uri": "https://localhost:8080/"
        },
        "id": "tzEA1E7i3Gva",
        "outputId": "18e68ea1-4eb0-46cc-baaf-9a4e044b18d5"
      },
      "execution_count": null,
      "outputs": [
        {
          "output_type": "execute_result",
          "data": {
            "text/plain": [
              "0.06402523540941313"
            ]
          },
          "metadata": {},
          "execution_count": 27
        }
      ]
    },
    {
      "cell_type": "code",
      "source": [
        "stats.norm.interval(0.99, loc=xbar_1, scale=sem_1)"
      ],
      "metadata": {
        "colab": {
          "base_uri": "https://localhost:8080/"
        },
        "id": "BCTIbCxb3MfM",
        "outputId": "323b423a-c678-4898-8568-ba9f2a1d9894"
      },
      "execution_count": null,
      "outputs": [
        {
          "output_type": "execute_result",
          "data": {
            "text/plain": [
              "(98.08508192246582, 98.41491807753418)"
            ]
          },
          "metadata": {},
          "execution_count": 34
        }
      ]
    },
    {
      "cell_type": "markdown",
      "source": [
        "EXERCISE 3. The administrators for a hospital wished to estimate the average number of days required for inpatient treatment of patients between the ages of 25 and 34. A random sample of 500 hospital patients between these ages produced a mean and standard deviation equal to 5.4 and 3.1 days, respectively.\n",
        "Construct a 95% confidence interval for the mean length of stay for the population of patients from which the sample was drawn."
      ],
      "metadata": {
        "id": "QT5SiarK9gQo"
      }
    },
    {
      "cell_type": "code",
      "source": [
        "n_2 = 500\n",
        "xbar_2 = 5.4\n",
        "sigma_2 = 3.1"
      ],
      "metadata": {
        "id": "gHKAEUxu71Z1"
      },
      "execution_count": null,
      "outputs": []
    },
    {
      "cell_type": "code",
      "source": [
        "sem_2 = (sigma_2) / (np.sqrt(n_2))\n",
        "sem_2"
      ],
      "metadata": {
        "colab": {
          "base_uri": "https://localhost:8080/"
        },
        "id": "0FpMh8yH-M1W",
        "outputId": "268e6efb-bf7b-4712-8031-641436aef448"
      },
      "execution_count": null,
      "outputs": [
        {
          "output_type": "execute_result",
          "data": {
            "text/plain": [
              "0.13863621460498696"
            ]
          },
          "metadata": {},
          "execution_count": 30
        }
      ]
    },
    {
      "cell_type": "code",
      "source": [
        "stats.norm.interval(0.95, loc=xbar_2, scale=sem_2)"
      ],
      "metadata": {
        "colab": {
          "base_uri": "https://localhost:8080/"
        },
        "id": "icdz1ppi-S6h",
        "outputId": "1931ca77-e38d-4bf2-b65f-c3cc5d45354e"
      },
      "execution_count": null,
      "outputs": [
        {
          "output_type": "execute_result",
          "data": {
            "text/plain": [
              "(5.12827801242126, 5.67172198757874)"
            ]
          },
          "metadata": {},
          "execution_count": 31
        }
      ]
    }
  ]
}